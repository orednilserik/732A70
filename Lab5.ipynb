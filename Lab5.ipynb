{
  "cells": [
    {
      "cell_type": "markdown",
      "metadata": {
        "id": "qx2hQfBgEwwp"
      },
      "source": [
        "# Lab 5: Simple OOP and numpy\n"
      ]
    },
    {
      "cell_type": "markdown",
      "metadata": {
        "id": "uym8T53XEwwr"
      },
      "source": [
        "__Student I:__ johed883 (Johannes Hedström)\n",
        "\n",
        "__Student II:__ mikmo (Mikael Montén)"
      ]
    },
    {
      "cell_type": "markdown",
      "metadata": {
        "id": "vqrgDNflEwws"
      },
      "source": [
        "# 2. Introduction"
      ]
    },
    {
      "cell_type": "markdown",
      "metadata": {
        "id": "mJsJUvZHEwwt"
      },
      "source": [
        "## Object-oriented Programming"
      ]
    },
    {
      "cell_type": "markdown",
      "metadata": {
        "id": "HuLwwEZBEwwt"
      },
      "source": [
        "The point of Object-oriented Programming is to support encapsulation and the DRY (Don't Repeat Yourself) principle without things getting out of hand. Often, software architects (those high-level programmers who are responsible for how large systems are designed on a technical level) talk about Object-oriented design or Object-oriented analysis. The point of this is to identify the necessary _objects_ in a system. An object in this sense is not exactly the same as a Python object but rather a somewhat higher level logical unit which can reasonably be thought of as an independent component within the system. These high level objects might then be further subdivided into smaller and smaller objects and at a some level the responsibility shifts from the system architect to the team or individual developer working on a specific component. Thus, Object-oriented thinking is necessary for anyone developing code which will be integrated with a larger system, for instance a data scientist implementing analytics tools."
      ]
    },
    {
      "cell_type": "markdown",
      "metadata": {
        "id": "THGFT18rEwwu"
      },
      "source": [
        "## OOP in Python"
      ]
    },
    {
      "cell_type": "markdown",
      "metadata": {
        "id": "RYAERM71Ewwu"
      },
      "source": [
        "Python implements the Object-oriented paradigm to a somewhat larger degree than the Functional paradigm. However, there are features considered necessary for _strict_ object-oriented programming missing from Python. Mainly, we are talking about data protection. Not in a software security sense, but in the sense of encapsulation. There is no simple way to strictly control access to member variables in Python. This does not affect this lab in any way but is worth remembering if one has worked in a language such as Java previously."
      ]
    },
    {
      "cell_type": "markdown",
      "metadata": {
        "id": "1CYHtp-9Ewwv"
      },
      "source": [
        "# 3. Simple instance tests in Python"
      ]
    },
    {
      "cell_type": "markdown",
      "metadata": {
        "id": "torUv4ofEwwv"
      },
      "source": [
        "Note: some of these questions will be extremely simple, and some might prove trickier. Don't expect that the answer needs to be hard."
      ]
    },
    {
      "cell_type": "code",
      "execution_count": null,
      "metadata": {
        "id": "jmegRVJoEwwv"
      },
      "outputs": [],
      "source": [
        "class Person:\n",
        "    def __init__(self, name):\n",
        "        self.name = name\n",
        "        self.age = 0            # Age should be non-negative.\n",
        "\n",
        "    def get_age(self):\n",
        "        \"\"\"Return the Person's age, a non-negative number.\"\"\"\n",
        "        return self.age\n",
        "\n",
        "    def return_five(self):\n",
        "        \"\"\"Return 5. Dummy function.\"\"\"\n",
        "        return 5\n",
        "\n",
        "Jackal = Person\n",
        "\n",
        "president = Person(\"Jeb\")\n",
        "psec = Jackal(\"CJ Cregg\")"
      ]
    },
    {
      "cell_type": "markdown",
      "metadata": {
        "id": "Z7zVYG27Ewwx"
      },
      "source": [
        "a) Change the age of the `president` to 65 (`psec` should be unaffected)."
      ]
    },
    {
      "cell_type": "code",
      "execution_count": null,
      "metadata": {
        "id": "unqJacMMEwwx",
        "colab": {
          "base_uri": "https://localhost:8080/"
        },
        "outputId": "9fd12943-66e5-4575-b22d-d26b0422d858"
      },
      "outputs": [
        {
          "output_type": "stream",
          "name": "stdout",
          "text": [
            "65\n",
            "0\n"
          ]
        }
      ],
      "source": [
        "president.age= 65 # changing the age  for the president\n",
        "print(president.age)\n",
        "print(psec.age)"
      ]
    },
    {
      "cell_type": "markdown",
      "metadata": {
        "id": "VRKr-TJLEwwy"
      },
      "source": [
        "[Note: This mode of operation is sometimes considered poor OOP. We will remedy this later.]"
      ]
    },
    {
      "cell_type": "markdown",
      "metadata": {
        "id": "XnUPw5JjEwwy"
      },
      "source": [
        "b) How many `Person` instances are there? One, two or three?"
      ]
    },
    {
      "cell_type": "code",
      "execution_count": null,
      "metadata": {
        "id": "Fm5H8DSiEwwz"
      },
      "outputs": [],
      "source": [
        "# two as jackal is assinged from person then it creates psec\n",
        "# and president is also an instance from person"
      ]
    },
    {
      "cell_type": "markdown",
      "metadata": {
        "id": "Y3k2jn-UEwwz"
      },
      "source": [
        "c) Consider the following code snippets. What do you think that they will return, and why? Discuss amongst yourselves. After that, run the code and explain the output. You only need to write down your explanation of the output."
      ]
    },
    {
      "cell_type": "code",
      "execution_count": null,
      "metadata": {
        "id": "VGwtXzPAEww0",
        "colab": {
          "base_uri": "https://localhost:8080/"
        },
        "outputId": "d902991d-1972-47fd-d99d-eadb7aeb6dfc"
      },
      "outputs": [
        {
          "output_type": "stream",
          "name": "stderr",
          "text": [
            "<>:1: SyntaxWarning: \"is\" with a literal. Did you mean \"==\"?\n",
            "<>:1: SyntaxWarning: \"is\" with a literal. Did you mean \"==\"?\n",
            "<ipython-input-4-9717c936c88c>:1: SyntaxWarning: \"is\" with a literal. Did you mean \"==\"?\n",
            "  \"Jeb\" is Person\n"
          ]
        },
        {
          "output_type": "execute_result",
          "data": {
            "text/plain": [
              "False"
            ]
          },
          "metadata": {},
          "execution_count": 4
        }
      ],
      "source": [
        "\"Jeb\" is Person"
      ]
    },
    {
      "cell_type": "code",
      "execution_count": null,
      "metadata": {
        "scrolled": true,
        "id": "4SBOIxwiEww0",
        "colab": {
          "base_uri": "https://localhost:8080/"
        },
        "outputId": "519c108f-77ae-4a42-f0e1-2192919d5fb7"
      },
      "outputs": [
        {
          "output_type": "execute_result",
          "data": {
            "text/plain": [
              "False"
            ]
          },
          "metadata": {},
          "execution_count": 5
        }
      ],
      "source": [
        "president is Person"
      ]
    },
    {
      "cell_type": "markdown",
      "source": [
        "# LÄGG IN MER KOMMENTARER HÄR\n",
        "        |\n",
        "        |\n",
        "        |\n",
        "       \\ /\n",
        "        -"
      ],
      "metadata": {
        "id": "ykmijwe1vd-4"
      }
    },
    {
      "cell_type": "code",
      "execution_count": null,
      "metadata": {
        "id": "QsP-_5RAEww0",
        "colab": {
          "base_uri": "https://localhost:8080/",
          "height": 35
        },
        "outputId": "858a2c94-2e33-477b-e8bc-ee0d293d1de4"
      },
      "outputs": [
        {
          "output_type": "execute_result",
          "data": {
            "text/plain": [
              "'Since president is created through Person, the comparison works but returns false due to them not being exactly the same'"
            ],
            "application/vnd.google.colaboratory.intrinsic+json": {
              "type": "string"
            }
          },
          "metadata": {},
          "execution_count": 6
        }
      ],
      "source": [
        "# Your answer goes here.\n",
        "\" 'Jeb' is Person returns the warnings and false as Jeb is just a string and were trying trying to match it with with an object \"\n",
        "\n",
        "\" As the object havent defined an __str__ in the class python also prints the memory address to the object and thats why president doesnt match with Person\"\n",
        "\n",
        "\"Since president is created through Person, the comparison works but returns false due to them not being exactly the same\"\n"
      ]
    },
    {
      "cell_type": "markdown",
      "metadata": {
        "id": "J10hkMmtEww1"
      },
      "source": [
        "d) How would you go about checking whether or not the value bound to the name `president` is-a `Person`?"
      ]
    },
    {
      "cell_type": "code",
      "execution_count": null,
      "metadata": {
        "id": "KofzM6ClEww1",
        "colab": {
          "base_uri": "https://localhost:8080/"
        },
        "outputId": "006c24ef-f1ea-41df-d195-576c5cc3b16f"
      },
      "outputs": [
        {
          "output_type": "execute_result",
          "data": {
            "text/plain": [
              "True"
            ]
          },
          "metadata": {},
          "execution_count": 7
        }
      ],
      "source": [
        "president.__class__ == Person # by using __class__ to see if it matches to Person"
      ]
    },
    {
      "cell_type": "markdown",
      "metadata": {
        "id": "lJN6-5HfEww1"
      },
      "source": [
        "# 4. Subclasses"
      ]
    },
    {
      "cell_type": "markdown",
      "metadata": {
        "id": "XoAF6hCbEww1"
      },
      "source": [
        "a) Create class `Employee`, a subclass of `Person` with data attributes (fields)\n",
        "* `__work_days_accrued`\n",
        "* `__daily_salary`.\n",
        "\n",
        "These should be *the only* data attributes which you write in your class definition. In particular, you may not duplicate `name` and `age`.\n",
        "\n",
        "There should be methods\n",
        "* `work` which increments the number of work days accrued.\n",
        "* `expected_payout` which just returns the expected payout for the employee based on the accrued work days and daily salary (but without doing any resets).\n",
        "* `payout` which returns the accrued salary and resets the number of work days accrued. The `payout` function may not perform any calculations itself."
      ]
    },
    {
      "cell_type": "code",
      "execution_count": null,
      "metadata": {
        "id": "8vM3hqOVEww2",
        "colab": {
          "base_uri": "https://localhost:8080/"
        },
        "outputId": "5f678d91-c1dd-4e6b-8a51-767016b63552"
      },
      "outputs": [
        {
          "output_type": "stream",
          "name": "stdout",
          "text": [
            "--- Setting up test cases.\n",
            "--- Testing payout and expected_payout properties.\n",
            "OK\n",
            "--- Testing non-data-accessing calls to superclass methods.\n",
            "OK\n",
            "--- Testing data that should be set up by initialiser call.\n",
            "OK\n"
          ]
        }
      ],
      "source": [
        "# Your code goes here.\n",
        "\n",
        "class Employee(Person):\n",
        "  def __init__(self,\n",
        "               name,\n",
        "               work_days_accrued=0,\n",
        "               daily_salary=15): # Adding attributes with starting values\n",
        "    super().__init__(name) # Calling Person with name parameter\n",
        "    self.__work_days_accrued = work_days_accrued\n",
        "    self.__daily_salary =  daily_salary\n",
        "\n",
        "  def work(self): # Work method to add a work day to work_days_accrued\n",
        "     self.__work_days_accrued +=1\n",
        "\n",
        "  def get_work_days_accrued(self): # getter to retrive the current value\n",
        "    return self.__work_days_accrued\n",
        "\n",
        "\n",
        "  def get_daily_salary(self): # getter to retrive the current value\n",
        "    return self.__daily_salary\n",
        "\n",
        "  def expected_payout(self): # method that returns expected payout based on the work and salary of the employee\n",
        "    return self.__work_days_accrued * self.__daily_salary\n",
        "\n",
        "  def payout(self): # Method to return the payout and reset the work days accured\n",
        "    acc_salary = self.expected_payout() # using the expecteed payout method\n",
        "    self.__work_days_accrued = 0 # reset of work days\n",
        "    return acc_salary\n",
        "\n",
        "\n",
        "\n",
        "\n",
        "\n",
        "# Ready-made tests.\n",
        "print(\"--- Setting up test cases.\")\n",
        "cleaner = Employee(name = \"Scruffy\")  # Should have daily_salary 15.\n",
        "josh = Employee(name = \"Josh\", daily_salary = 1000)\n",
        "toby = Employee(name = \"Toby\", daily_salary = 9999)\n",
        "\n",
        "josh.work()\n",
        "josh.work()\n",
        "toby.work()\n",
        "toby.work()\n",
        "toby.work()\n",
        "cleaner.work()\n",
        "\n",
        "print(\"--- Testing payout and expected_payout properties.\")\n",
        "assert cleaner.expected_payout() == 15, \"default salary should be 15\"\n",
        "assert josh.expected_payout() == 1000*2\n",
        "assert josh.payout() == 1000*2\n",
        "assert josh.expected_payout() == 0, \"salary should be reset afterwards\"\n",
        "assert toby.payout() == 9999*3, \"toby and josh instances should be independent.\"\n",
        "print(\"OK\")\n",
        "\n",
        "print(\"--- Testing non-data-accessing calls to superclass methods.\")\n",
        "assert josh.return_five() == 5, \"Person.return_five should be accessible\"\n",
        "print(\"OK\")\n",
        "\n",
        "print(\"--- Testing data that should be set up by initialiser call.\")\n",
        "assert josh.get_age() == 0, \"superclass method should be callable, values should not be missing.\"\n",
        "josh.age = 9\n",
        "assert josh.get_age() == 9, \"superclass method should be callable\"\n",
        "print(\"OK\")"
      ]
    },
    {
      "cell_type": "markdown",
      "metadata": {
        "id": "DU9YFBFkEww2"
      },
      "source": [
        "b) Which public data attributes (fields) does an `Employee` have? Can you access the age of an employee directly (without some transformation of the name)? The daily salary?"
      ]
    },
    {
      "cell_type": "markdown",
      "source": [
        "# HÄR SKA DET IN MER KOMMENTARER JAG LA IN HUR MAN FÅR FRAM NAMNET"
      ],
      "metadata": {
        "id": "_EYD2DiRoXXW"
      }
    },
    {
      "cell_type": "code",
      "execution_count": null,
      "metadata": {
        "id": "m2jkTKpVEww2",
        "colab": {
          "base_uri": "https://localhost:8080/"
        },
        "outputId": "6a6854f0-2fe2-4752-bd9d-e3b4790182c2"
      },
      "outputs": [
        {
          "output_type": "execute_result",
          "data": {
            "text/plain": [
              "['__module__',\n",
              " '__init__',\n",
              " 'work',\n",
              " 'get_work_days_accrued',\n",
              " 'get_daily_salary',\n",
              " 'expected_payout',\n",
              " 'payout',\n",
              " '__doc__']"
            ]
          },
          "metadata": {},
          "execution_count": 9
        }
      ],
      "source": [
        "[attr for attr in Employee.__dict__]\n",
        "\n",
        "# The fields that start with \"__\" are private attributes, and the rest are public data attributes.\n",
        "# Employe has public fields \"work\", \"get_work_days_accrued\", \"get_daily_salary\", \"expected_payout\", \"payout\"\n",
        "\n"
      ]
    },
    {
      "cell_type": "code",
      "source": [
        "print(f\"Avaliable attributes for josh is {[attr for attr in josh.__dict__]}.\")\n",
        "\n",
        "# You can access the attributes of josh using __dict__ just like for the Employee class.\n",
        "\n",
        "print(f\"Josh is {josh.age} years old and has a daily salary of {josh._Employee__daily_salary}.\")\n"
      ],
      "metadata": {
        "colab": {
          "base_uri": "https://localhost:8080/"
        },
        "id": "VHcN8kfrmKAa",
        "outputId": "0431aa88-dbdf-4b27-bafd-0fdcc36e287f"
      },
      "execution_count": null,
      "outputs": [
        {
          "output_type": "stream",
          "name": "stdout",
          "text": [
            "Avaliable attributes for josh is ['name', 'age', '_Employee__work_days_accrued', '_Employee__daily_salary'].\n",
            "Josh is 9 years old and has a daily salary of 1000.\n"
          ]
        }
      ]
    },
    {
      "cell_type": "markdown",
      "metadata": {
        "id": "goEmRuRuEww3"
      },
      "source": [
        "# 5. Introductory numpy"
      ]
    },
    {
      "cell_type": "markdown",
      "metadata": {
        "id": "Kue1SFzbEww3"
      },
      "source": [
        "A lot of computations will likely end up using data stored `numpy` arrays. Therefore, it is a good idea to have a feeling for how they are used and manipulated. The following steps will provide some introduction, so that we can build upon this in future labs.\n",
        "\n",
        "You may want to refer to the [official numpy.org absolute beginners guide to numpy](https://numpy.org/devdocs/user/absolute_beginners.html)."
      ]
    },
    {
      "cell_type": "markdown",
      "metadata": {
        "id": "mTTieJ2pEww3"
      },
      "source": [
        "a) Import the module `numpy`, giving it the shorthand `np`."
      ]
    },
    {
      "cell_type": "code",
      "execution_count": null,
      "metadata": {
        "id": "DI_Au5YEEww3"
      },
      "outputs": [],
      "source": [
        "import numpy as np # importing numpy"
      ]
    },
    {
      "cell_type": "markdown",
      "metadata": {
        "id": "mrKmPxY5Eww3"
      },
      "source": [
        "b) Create the $2 \\times 3$ matrix $A = \\begin{bmatrix}1 & 2 & 3 \\\\ 0 & 0 & 1\\end{bmatrix}$"
      ]
    },
    {
      "cell_type": "code",
      "execution_count": null,
      "metadata": {
        "id": "cpKnzX1rEww4",
        "colab": {
          "base_uri": "https://localhost:8080/"
        },
        "outputId": "9ef581bd-78c3-4cd2-ccbe-a7c29a51347e"
      },
      "outputs": [
        {
          "output_type": "execute_result",
          "data": {
            "text/plain": [
              "matrix([[1, 2, 3],\n",
              "        [0, 0, 1]])"
            ]
          },
          "metadata": {},
          "execution_count": 12
        }
      ],
      "source": [
        "A=np.matrix('1,2,3;0,0,1') # using matrix function from numpy to crate A\n",
        "A"
      ]
    },
    {
      "cell_type": "markdown",
      "metadata": {
        "id": "wUtIybelEww4"
      },
      "source": [
        "c) Create the vector $b = \\begin{bmatrix}1\\\\ 2 \\\\ 3 \\end{bmatrix}$"
      ]
    },
    {
      "cell_type": "code",
      "execution_count": null,
      "metadata": {
        "id": "3wdrIDtHEww4",
        "colab": {
          "base_uri": "https://localhost:8080/"
        },
        "outputId": "1fb79e73-c710-46dc-df14-411e2862a6f3"
      },
      "outputs": [
        {
          "output_type": "execute_result",
          "data": {
            "text/plain": [
              "array([[1],\n",
              "       [2],\n",
              "       [3]])"
            ]
          },
          "metadata": {},
          "execution_count": 13
        }
      ],
      "source": [
        "b = np.array([[1],[2],[3]])\n",
        "b"
      ]
    },
    {
      "cell_type": "markdown",
      "metadata": {
        "id": "khyznSO6Eww4"
      },
      "source": [
        "d) Perform the multiplication $Ab$. What is the result?"
      ]
    },
    {
      "cell_type": "code",
      "source": [
        "print(f\"Dimensions, A = {A.shape}, B = {b.shape}\")\n",
        "\n",
        "# The matrices are multipliable and will result in a 2x1 matrix"
      ],
      "metadata": {
        "colab": {
          "base_uri": "https://localhost:8080/"
        },
        "id": "NfL3YOU0tDLP",
        "outputId": "a9e986cb-54df-4a1b-d0b0-d8e8e4398e49"
      },
      "execution_count": null,
      "outputs": [
        {
          "output_type": "stream",
          "name": "stdout",
          "text": [
            "Dimensions, A = (2, 3), B = (3, 1)\n"
          ]
        }
      ]
    },
    {
      "cell_type": "code",
      "execution_count": null,
      "metadata": {
        "id": "XosWXB0dEww4",
        "colab": {
          "base_uri": "https://localhost:8080/"
        },
        "outputId": "e505c5fa-5ed8-4ce0-9cfc-c60a2a1cb630"
      },
      "outputs": [
        {
          "output_type": "execute_result",
          "data": {
            "text/plain": [
              "matrix([[14],\n",
              "        [ 3]])"
            ]
          },
          "metadata": {},
          "execution_count": 15
        }
      ],
      "source": [
        "A @ b # multiplicating"
      ]
    },
    {
      "cell_type": "markdown",
      "metadata": {
        "id": "_DarxYtnEww4"
      },
      "source": [
        "e) Mathematically, what should the dimensions of $b^Tb$ be? What should the dimensions of $bb^T$ be?"
      ]
    },
    {
      "cell_type": "code",
      "execution_count": null,
      "metadata": {
        "id": "yOJzFftzEww4",
        "colab": {
          "base_uri": "https://localhost:8080/",
          "height": 35
        },
        "outputId": "1dfb7d3c-80c0-479b-cb2d-752c5adae24d"
      },
      "outputs": [
        {
          "output_type": "execute_result",
          "data": {
            "text/plain": [
              "'\\nb^T*b\\n[1x3] * [3x1] = [1x1] according to multiplication rules of matricies\\n\\nb*b^T\\n[3x1] * [1x3] = [3x3]\\n'"
            ],
            "application/vnd.google.colaboratory.intrinsic+json": {
              "type": "string"
            }
          },
          "metadata": {},
          "execution_count": 16
        }
      ],
      "source": [
        "\"\"\"\n",
        "b^T*b\n",
        "[1x3] * [3x1] = [1x1] according to multiplication rules of matricies\n",
        "\n",
        "b*b^T\n",
        "[3x1] * [1x3] = [3x3]\n",
        "\"\"\""
      ]
    },
    {
      "cell_type": "markdown",
      "metadata": {
        "id": "bI6vBG8pEww5"
      },
      "source": [
        "f) Compute ```b.T @ b```? ```b @ b.T``` in numpy. How would you go about calculating $bb^T$ (if you wanted to actually store it as a matrix, which is rarely the most space- or time-efficient idea)?"
      ]
    },
    {
      "cell_type": "code",
      "execution_count": null,
      "metadata": {
        "id": "0Rwzwkq5Eww7",
        "colab": {
          "base_uri": "https://localhost:8080/"
        },
        "outputId": "6741c7b7-5cc5-471e-fde8-355dfb1c41ff"
      },
      "outputs": [
        {
          "output_type": "execute_result",
          "data": {
            "text/plain": [
              "array([[1, 2, 3],\n",
              "       [2, 4, 6],\n",
              "       [3, 6, 9]])"
            ]
          },
          "metadata": {},
          "execution_count": 17
        }
      ],
      "source": [
        "b.T @ b # T to transpose and @ to multiply\n",
        "\n",
        "b.dot(b.T) # trying dot function"
      ]
    },
    {
      "cell_type": "markdown",
      "metadata": {
        "id": "Tyex3y7nEww8"
      },
      "source": [
        "Note: as `a @ b` is read `a.dot(b)` this should perhaps not be entirely surprising. But it is non-obvious."
      ]
    },
    {
      "cell_type": "markdown",
      "metadata": {
        "id": "3hpRZS3zEww8"
      },
      "source": [
        "d) Try to solve the equation $Ax = b$ using the `solve` method. Does this make mathematical sense? What does numpy say? Read the error message."
      ]
    },
    {
      "cell_type": "code",
      "execution_count": null,
      "metadata": {
        "id": "qfr96eDREww8",
        "colab": {
          "base_uri": "https://localhost:8080/",
          "height": 287
        },
        "outputId": "c77a842d-62a2-4e44-9b5e-9dadf5497524"
      },
      "outputs": [
        {
          "output_type": "error",
          "ename": "LinAlgError",
          "evalue": "Last 2 dimensions of the array must be square",
          "traceback": [
            "\u001b[0;31m---------------------------------------------------------------------------\u001b[0m",
            "\u001b[0;31mLinAlgError\u001b[0m                               Traceback (most recent call last)",
            "\u001b[0;32m<ipython-input-18-36718354ad3a>\u001b[0m in \u001b[0;36m<cell line: 1>\u001b[0;34m()\u001b[0m\n\u001b[0;32m----> 1\u001b[0;31m \u001b[0mnp\u001b[0m\u001b[0;34m.\u001b[0m\u001b[0mlinalg\u001b[0m\u001b[0;34m.\u001b[0m\u001b[0msolve\u001b[0m\u001b[0;34m(\u001b[0m\u001b[0mA\u001b[0m\u001b[0;34m,\u001b[0m\u001b[0mb\u001b[0m\u001b[0;34m)\u001b[0m\u001b[0;34m\u001b[0m\u001b[0;34m\u001b[0m\u001b[0m\n\u001b[0m",
            "\u001b[0;32m/usr/local/lib/python3.10/dist-packages/numpy/linalg/linalg.py\u001b[0m in \u001b[0;36msolve\u001b[0;34m(a, b)\u001b[0m\n\u001b[1;32m    394\u001b[0m     \u001b[0ma\u001b[0m\u001b[0;34m,\u001b[0m \u001b[0m_\u001b[0m \u001b[0;34m=\u001b[0m \u001b[0m_makearray\u001b[0m\u001b[0;34m(\u001b[0m\u001b[0ma\u001b[0m\u001b[0;34m)\u001b[0m\u001b[0;34m\u001b[0m\u001b[0;34m\u001b[0m\u001b[0m\n\u001b[1;32m    395\u001b[0m     \u001b[0m_assert_stacked_2d\u001b[0m\u001b[0;34m(\u001b[0m\u001b[0ma\u001b[0m\u001b[0;34m)\u001b[0m\u001b[0;34m\u001b[0m\u001b[0;34m\u001b[0m\u001b[0m\n\u001b[0;32m--> 396\u001b[0;31m     \u001b[0m_assert_stacked_square\u001b[0m\u001b[0;34m(\u001b[0m\u001b[0ma\u001b[0m\u001b[0;34m)\u001b[0m\u001b[0;34m\u001b[0m\u001b[0;34m\u001b[0m\u001b[0m\n\u001b[0m\u001b[1;32m    397\u001b[0m     \u001b[0mb\u001b[0m\u001b[0;34m,\u001b[0m \u001b[0mwrap\u001b[0m \u001b[0;34m=\u001b[0m \u001b[0m_makearray\u001b[0m\u001b[0;34m(\u001b[0m\u001b[0mb\u001b[0m\u001b[0;34m)\u001b[0m\u001b[0;34m\u001b[0m\u001b[0;34m\u001b[0m\u001b[0m\n\u001b[1;32m    398\u001b[0m     \u001b[0mt\u001b[0m\u001b[0;34m,\u001b[0m \u001b[0mresult_t\u001b[0m \u001b[0;34m=\u001b[0m \u001b[0m_commonType\u001b[0m\u001b[0;34m(\u001b[0m\u001b[0ma\u001b[0m\u001b[0;34m,\u001b[0m \u001b[0mb\u001b[0m\u001b[0;34m)\u001b[0m\u001b[0;34m\u001b[0m\u001b[0;34m\u001b[0m\u001b[0m\n",
            "\u001b[0;32m/usr/local/lib/python3.10/dist-packages/numpy/linalg/linalg.py\u001b[0m in \u001b[0;36m_assert_stacked_square\u001b[0;34m(*arrays)\u001b[0m\n\u001b[1;32m    211\u001b[0m         \u001b[0mm\u001b[0m\u001b[0;34m,\u001b[0m \u001b[0mn\u001b[0m \u001b[0;34m=\u001b[0m \u001b[0ma\u001b[0m\u001b[0;34m.\u001b[0m\u001b[0mshape\u001b[0m\u001b[0;34m[\u001b[0m\u001b[0;34m-\u001b[0m\u001b[0;36m2\u001b[0m\u001b[0;34m:\u001b[0m\u001b[0;34m]\u001b[0m\u001b[0;34m\u001b[0m\u001b[0;34m\u001b[0m\u001b[0m\n\u001b[1;32m    212\u001b[0m         \u001b[0;32mif\u001b[0m \u001b[0mm\u001b[0m \u001b[0;34m!=\u001b[0m \u001b[0mn\u001b[0m\u001b[0;34m:\u001b[0m\u001b[0;34m\u001b[0m\u001b[0;34m\u001b[0m\u001b[0m\n\u001b[0;32m--> 213\u001b[0;31m             \u001b[0;32mraise\u001b[0m \u001b[0mLinAlgError\u001b[0m\u001b[0;34m(\u001b[0m\u001b[0;34m'Last 2 dimensions of the array must be square'\u001b[0m\u001b[0;34m)\u001b[0m\u001b[0;34m\u001b[0m\u001b[0;34m\u001b[0m\u001b[0m\n\u001b[0m\u001b[1;32m    214\u001b[0m \u001b[0;34m\u001b[0m\u001b[0m\n\u001b[1;32m    215\u001b[0m \u001b[0;32mdef\u001b[0m \u001b[0m_assert_finite\u001b[0m\u001b[0;34m(\u001b[0m\u001b[0;34m*\u001b[0m\u001b[0marrays\u001b[0m\u001b[0;34m)\u001b[0m\u001b[0;34m:\u001b[0m\u001b[0;34m\u001b[0m\u001b[0;34m\u001b[0m\u001b[0m\n",
            "\u001b[0;31mLinAlgError\u001b[0m: Last 2 dimensions of the array must be square"
          ]
        }
      ],
      "source": [
        "np.linalg.solve(A,b)\n"
      ]
    },
    {
      "cell_type": "code",
      "execution_count": null,
      "metadata": {
        "id": "J0UoBDHREww8",
        "colab": {
          "base_uri": "https://localhost:8080/",
          "height": 53
        },
        "outputId": "dd628b7c-5f0d-4031-9d71-e541eb98e2fc"
      },
      "outputs": [
        {
          "output_type": "execute_result",
          "data": {
            "text/plain": [
              "'\\n\\nIt doesn\\'t make sense as A[2x3] * x =/= b[3x1].\\nIrregardless of the dims of x we wont get the dimensions of b from the multiplication, as A and b have differing amount of rows.\\nMultiplying A*x will always return a matrix with 2 rows.\\n\\nNumpy says; \"LinAlgError: Last 2 dimensions of the array must be square\"\\n\\nIn the solve function A needs to be a square matrix with columns being linearly independent,\\nprobably for it to do the inverse of A.\\n\\n'"
            ],
            "application/vnd.google.colaboratory.intrinsic+json": {
              "type": "string"
            }
          },
          "metadata": {},
          "execution_count": 19
        }
      ],
      "source": [
        "\n",
        "\"\"\"\n",
        "\n",
        "It doesn't make sense as A[2x3] * x =/= b[3x1].\n",
        "Irregardless of the dims of x we wont get the dimensions of b from the multiplication, as A and b have differing amount of rows.\n",
        "Multiplying A*x will always return a matrix with 2 rows.\n",
        "\n",
        "Numpy says; \"LinAlgError: Last 2 dimensions of the array must be square\"\n",
        "\n",
        "In the solve function A needs to be a square matrix with columns being linearly independent,\n",
        "probably for it to do the inverse of A.\n",
        "\n",
        "\"\"\"\n"
      ]
    },
    {
      "cell_type": "markdown",
      "metadata": {
        "id": "yKMmEbN3Eww9"
      },
      "source": [
        "e) Try to solve the equation $A^Tx = b$ using numpy. Does this make mathematical sense? What does numpy say?"
      ]
    },
    {
      "cell_type": "code",
      "execution_count": null,
      "metadata": {
        "id": "JOT6bMXoEww9",
        "colab": {
          "base_uri": "https://localhost:8080/"
        },
        "outputId": "52c6ebb5-99ca-44f4-83ab-61b602608214"
      },
      "outputs": [
        {
          "output_type": "execute_result",
          "data": {
            "text/plain": [
              "array([[ 1.00000000e+00],\n",
              "       [-7.71591444e-16]])"
            ]
          },
          "metadata": {},
          "execution_count": 20
        }
      ],
      "source": [
        "x = np.linalg.lstsq(A.T,b,rcond=None)[0] # least squares function, only returning x values with [0]\n",
        "x"
      ]
    },
    {
      "cell_type": "code",
      "execution_count": null,
      "metadata": {
        "id": "RXt8N-GrEww9",
        "colab": {
          "base_uri": "https://localhost:8080/",
          "height": 35
        },
        "outputId": "fffd724a-af53-45e2-f1b1-cd77051f2a06"
      },
      "outputs": [
        {
          "output_type": "execute_result",
          "data": {
            "text/plain": [
              "'\\n    A[3x2] * x[2x1] = b[3x1] It makes more sense now if we are only considering\\n    the dimensions in the multiplication if x is shaped with 2 rows and 1 column.\\n\\n    But\\n'"
            ],
            "application/vnd.google.colaboratory.intrinsic+json": {
              "type": "string"
            }
          },
          "metadata": {},
          "execution_count": 21
        }
      ],
      "source": [
        "\"\"\"\n",
        "    A[3x2] * x[2x1] = b[3x1] It makes more sense now if we are only considering\n",
        "    the dimensions in the multiplication if x is shaped with 2 rows and 1 column.\n",
        "\n",
        "    But\n",
        "\"\"\""
      ]
    },
    {
      "cell_type": "code",
      "source": [
        "x =np.array(x)\n",
        "print(x)"
      ],
      "metadata": {
        "colab": {
          "base_uri": "https://localhost:8080/"
        },
        "id": "8c7sTrIbBs1C",
        "outputId": "7d420401-f2ed-40da-fe94-dea735380283"
      },
      "execution_count": null,
      "outputs": [
        {
          "output_type": "stream",
          "name": "stdout",
          "text": [
            "[[ 1.00000000e+00]\n",
            " [-7.71591444e-16]]\n"
          ]
        }
      ]
    },
    {
      "cell_type": "markdown",
      "metadata": {
        "id": "fO3NyU1sEww9"
      },
      "source": [
        "f) One of the two tasks above make sense from a mathematical point of view. Find a best solution $x$ in the least squares sense."
      ]
    },
    {
      "cell_type": "code",
      "execution_count": null,
      "metadata": {
        "id": "YDj0Qph0Eww-",
        "colab": {
          "base_uri": "https://localhost:8080/"
        },
        "outputId": "8616db78-5671-4be4-895a-c0862bed0c6a"
      },
      "outputs": [
        {
          "output_type": "stream",
          "name": "stdout",
          "text": [
            "This is the result of A^T * x, \n",
            " [[1.]\n",
            " [2.]\n",
            " [3.]]\n",
            "This is b, \n",
            "[[1]\n",
            " [2]\n",
            " [3]]\n"
          ]
        }
      ],
      "source": [
        "print(f'This is the result of A^T * x, \\n {A.T*x}') # printing my result\n",
        "print(f'This is b, \\n{b}')"
      ]
    },
    {
      "cell_type": "markdown",
      "metadata": {
        "id": "G4b5bmefEww-"
      },
      "source": [
        "g) Is the resulting $Ax$ or $A^Tx$ (depending on your choice above) close to $b$? What is the norm-2-distance between the vectors?"
      ]
    },
    {
      "cell_type": "code",
      "execution_count": null,
      "metadata": {
        "id": "KPUkwgxWEww-",
        "colab": {
          "base_uri": "https://localhost:8080/"
        },
        "outputId": "9ab05924-592f-4287-de98-b2632c697110"
      },
      "outputs": [
        {
          "output_type": "execute_result",
          "data": {
            "text/plain": [
              "1.355199909595506e-15"
            ]
          },
          "metadata": {},
          "execution_count": 24
        }
      ],
      "source": [
        "\"\"\"\n",
        "The values seems to be really close to b and the norm-2-distance is very small\n",
        "\"\"\"\n",
        "\n",
        "\n",
        "np.linalg.norm(A.T*x-b) # norm function from numpy\n"
      ]
    },
    {
      "cell_type": "markdown",
      "metadata": {
        "id": "fqANzAiOEww-"
      },
      "source": [
        "Just to get some practice, run the following to get some test data:"
      ]
    },
    {
      "cell_type": "code",
      "execution_count": null,
      "metadata": {
        "id": "txVq6TZqEww_"
      },
      "outputs": [],
      "source": [
        "import sklearn\n",
        "import sklearn.datasets as ds\n",
        "houses = ds.fetch_california_housing()"
      ]
    },
    {
      "cell_type": "markdown",
      "metadata": {
        "id": "6mOE1DOtEww_"
      },
      "source": [
        "h) How many rows does the dataset have? Columns? Find out using numpy. (First check what `houses` actually is)"
      ]
    },
    {
      "cell_type": "code",
      "execution_count": null,
      "metadata": {
        "id": "wnQdisKUEww_",
        "colab": {
          "base_uri": "https://localhost:8080/",
          "height": 35
        },
        "outputId": "3fbdcfcf-2eba-406e-8cc7-8848aa1e3295"
      },
      "outputs": [
        {
          "output_type": "execute_result",
          "data": {
            "text/plain": [
              "'20640 rows and 8 columns '"
            ],
            "application/vnd.google.colaboratory.intrinsic+json": {
              "type": "string"
            }
          },
          "metadata": {},
          "execution_count": 26
        }
      ],
      "source": [
        "# checking the shape of the data\n",
        "houses.data.shape\n",
        "\n",
        "\"20640 rows and 8 columns \""
      ]
    },
    {
      "cell_type": "markdown",
      "metadata": {
        "id": "Oy6FGFrKEww_"
      },
      "source": [
        "i) Get the third column (remember: indexing starts at zero, so column number 2) of the dataset by indexing/slicing."
      ]
    },
    {
      "cell_type": "code",
      "execution_count": null,
      "metadata": {
        "id": "57uQSIJqEwxA",
        "colab": {
          "base_uri": "https://localhost:8080/"
        },
        "outputId": "7b577314-720c-45dd-e338-718dd0fd69d6"
      },
      "outputs": [
        {
          "output_type": "execute_result",
          "data": {
            "text/plain": [
              "array([6.98412698, 6.23813708, 8.28813559, ..., 5.20554273, 5.32951289,\n",
              "       5.25471698])"
            ]
          },
          "metadata": {},
          "execution_count": 27
        }
      ],
      "source": [
        "houses.data[:,2] # all rows, col 3"
      ]
    },
    {
      "cell_type": "markdown",
      "metadata": {
        "id": "79hdHtXyEwxA"
      },
      "source": [
        "j) Get the values of the third, fourth and hundredrth rows (that is, index 2, 3, 99)."
      ]
    },
    {
      "cell_type": "code",
      "execution_count": null,
      "metadata": {
        "id": "gNEjr5znEwxA",
        "colab": {
          "base_uri": "https://localhost:8080/"
        },
        "outputId": "76eca427-f62b-4e8c-d04f-ba65d5225f79"
      },
      "outputs": [
        {
          "output_type": "execute_result",
          "data": {
            "text/plain": [
              "array([[ 7.25740000e+00,  5.20000000e+01,  8.28813559e+00,\n",
              "         1.07344633e+00,  4.96000000e+02,  2.80225989e+00,\n",
              "         3.78500000e+01, -1.22240000e+02],\n",
              "       [ 5.64310000e+00,  5.20000000e+01,  5.81735160e+00,\n",
              "         1.07305936e+00,  5.58000000e+02,  2.54794521e+00,\n",
              "         3.78500000e+01, -1.22250000e+02],\n",
              "       [ 2.61040000e+00,  3.70000000e+01,  3.70714286e+00,\n",
              "         1.10714286e+00,  1.83800000e+03,  1.87551020e+00,\n",
              "         3.78200000e+01, -1.22260000e+02]])"
            ]
          },
          "metadata": {},
          "execution_count": 28
        }
      ],
      "source": [
        "houses.data[(2,3,99),:] # all columns for given rows"
      ]
    },
    {
      "cell_type": "markdown",
      "metadata": {
        "id": "ns-_Cv5TEwxA"
      },
      "source": [
        "k) Mathematical sanity check: without actually computing the rank of ```houses.data```, can you provide a bound? Could it have $10^{15}$ linearly independent rows? 2000? Etc. Write down the tightest bound you can find, and explain why briefly."
      ]
    },
    {
      "cell_type": "code",
      "execution_count": null,
      "metadata": {
        "id": "IhOY3vwgEwxB"
      },
      "outputs": [],
      "source": [
        "# You may want to look at some properties of the matrix here.\n",
        "# The maximum amount of linearly independent rows a matrix can have is equal to the amount of columns the matrix has.\n",
        "# This means that the houses dataset can have at most 8 independent rows, i.e. there exists linear dependancies and most rows can be expressed as linear combinations."
      ]
    },
    {
      "cell_type": "markdown",
      "metadata": {
        "id": "TXYYX2yNEwxB"
      },
      "source": [
        "l) Find out the actual rank of the matrix using numpy."
      ]
    },
    {
      "cell_type": "code",
      "execution_count": null,
      "metadata": {
        "id": "dRTVKeuEEwxB",
        "colab": {
          "base_uri": "https://localhost:8080/"
        },
        "outputId": "4200acfe-4557-4b4e-813a-96512c067ee1"
      },
      "outputs": [
        {
          "output_type": "execute_result",
          "data": {
            "text/plain": [
              "1"
            ]
          },
          "metadata": {},
          "execution_count": 30
        }
      ],
      "source": [
        "np.linalg.matrix_rank(houses)\n",
        "\n",
        "# The matrix has a rank of 1, which means it contains 1 linearly independent row"
      ]
    },
    {
      "cell_type": "markdown",
      "metadata": {
        "id": "pgtwQa-QEwxB"
      },
      "source": [
        "# 6. A simple classifier"
      ]
    },
    {
      "cell_type": "markdown",
      "metadata": {
        "id": "WAKNSC0NEwxB"
      },
      "source": [
        "Our goal in this section is to build a naïve subspace-projection based classifier which takes a numerical vector and produces a label. We will build this from the ground up (there are many libraries that perform this automatically, but may not use them in this case).\n",
        "\n",
        "We will first practice our numpy (and linear algebra) skills to build the algorithm, and then encapsulate data and methods in a class. We will be taking a slightly different route than more general SVD methods for finding principal components, simply because this is not our task. This is worth remembering if you find material on the subject!\n",
        "\n",
        "The main idea here is to pick out all the data corresponding to a certain set of vectors, and reduce this matrix to some rank $\\leq k$ matrix which is a good approximation of the row space in some sense (here: the sense that the vectors correspond to maximal singular values). A naïve classification is then given by picking the subspace which is closest by orthogonal projection."
      ]
    },
    {
      "cell_type": "markdown",
      "metadata": {
        "id": "ZiNvWPICEwxC"
      },
      "source": [
        "## The dataset"
      ]
    },
    {
      "cell_type": "markdown",
      "metadata": {
        "id": "s6Hi_jf8EwxC"
      },
      "source": [
        "First, we will import some data. Here we use the classic MNIST data set of handwritten digits. We can naturally partition the sets of vectors used for training and validation in many ways. Feel free to experiment with a nicer (possibly non-deterministic) version later. This is only to get us started, and to have a set of data with known properties (which is helpful for lab assistants)."
      ]
    },
    {
      "cell_type": "code",
      "execution_count": null,
      "metadata": {
        "id": "K9oj9dXVEwxC"
      },
      "outputs": [],
      "source": [
        "import sklearn.datasets as ds\n",
        "digits = ds.load_digits()\n",
        "training_digits = digits.data[0:600, :]\n",
        "training_labels = digits.target[0:600]\n",
        "# The set of labels can be found in digits.target_names."
      ]
    },
    {
      "cell_type": "markdown",
      "metadata": {
        "id": "QrWOk0whEwxD"
      },
      "source": [
        "If we are curious, we can view the images from the dataset."
      ]
    },
    {
      "cell_type": "code",
      "execution_count": null,
      "metadata": {
        "id": "kJQ7UOkNEwxD",
        "colab": {
          "base_uri": "https://localhost:8080/",
          "height": 466
        },
        "outputId": "fb2c04ac-defd-4403-a4ca-936b77ae9f20"
      },
      "outputs": [
        {
          "output_type": "execute_result",
          "data": {
            "text/plain": [
              "Text(0.5, 0, 'Index: 2, actually the number 2')"
            ]
          },
          "metadata": {},
          "execution_count": 32
        },
        {
          "output_type": "display_data",
          "data": {
            "text/plain": [
              "<Figure size 640x480 with 1 Axes>"
            ],
            "image/png": "[encoded data removed]"
          },
          "metadata": {}
        }
      ],
      "source": [
        "%matplotlib inline\n",
        "from matplotlib import pyplot as plt\n",
        "# We show one of the digits.\n",
        "d_index = 2\n",
        "plt.imshow(training_digits[d_index].reshape(8,8))\n",
        "plt.xlabel(f\"Index: {d_index}, actually the number {training_labels[d_index]}\")\n",
        "# Note: digits.images[i] is the same as digits.data[i], but in 8x8 format (no need to reshape).\n",
        "# We would however like to stress that the 64 pixel images we'll be working with are stored in vector format."
      ]
    },
    {
      "cell_type": "markdown",
      "metadata": {
        "id": "I3i6RXVkEwxD"
      },
      "source": [
        "## Tasks"
      ]
    },
    {
      "cell_type": "markdown",
      "metadata": {
        "id": "FE726OUkEwxE"
      },
      "source": [
        "a) Get all rows with label 4. Store that in the matrix $A_4$. Similarly for $A_9$. This should be two single lines of code!"
      ]
    },
    {
      "cell_type": "code",
      "execution_count": null,
      "metadata": {
        "id": "2c-egXs9EwxE",
        "colab": {
          "base_uri": "https://localhost:8080/"
        },
        "outputId": "96e28ca6-c7b6-4ad6-cabf-be5219d4b46a"
      },
      "outputs": [
        {
          "output_type": "execute_result",
          "data": {
            "text/plain": [
              "array([[0., 0., 0., ..., 4., 0., 0.],\n",
              "       [0., 0., 0., ..., 4., 0., 0.],\n",
              "       [0., 0., 0., ..., 8., 0., 0.],\n",
              "       ...,\n",
              "       [0., 0., 0., ..., 0., 0., 0.],\n",
              "       [0., 0., 0., ..., 0., 0., 0.],\n",
              "       [0., 0., 3., ..., 0., 0., 0.]])"
            ]
          },
          "metadata": {},
          "execution_count": 33
        }
      ],
      "source": [
        "a4 = training_digits[training_labels==4]    # indicing the training data with the labels\n",
        "a9 = training_digits[training_labels==9]\n",
        "a4    #"
      ]
    },
    {
      "cell_type": "markdown",
      "metadata": {
        "id": "67yPAnj7EwxE"
      },
      "source": [
        "b) Compute the thin SVD $A_4 = U_4\\Sigma_4 V^T_4$ and similarly for $A_9$. Thin here means that you do not necessarily get the full-rank square $U,V^T$ matrices."
      ]
    },
    {
      "cell_type": "code",
      "execution_count": null,
      "metadata": {
        "id": "K-TCceFJEwxE"
      },
      "outputs": [],
      "source": [
        "svd_a4 = np.linalg.svd(a4)\n",
        "svd_a9 = np.linalg.svd(a9)"
      ]
    },
    {
      "cell_type": "markdown",
      "metadata": {
        "id": "vQOQ_9HoEwxF"
      },
      "source": [
        "**Note** Our data is stored by row (one row per digit). What we use the different matrices in the decomposition for is thus slightly different than if it was stored by column. Instead of picking the best $k$ columns of $U$ we pick the best $k$ rows of $V^T$."
      ]
    },
    {
      "cell_type": "markdown",
      "metadata": {
        "id": "g1ub--85EwxF"
      },
      "source": [
        "c) Let $sample4$ be the first row of $A_4$ and $sample9$ be the first row of $A_9$."
      ]
    },
    {
      "cell_type": "code",
      "execution_count": null,
      "metadata": {
        "id": "xwCftOXhEwxF"
      },
      "outputs": [],
      "source": [
        "sample4 = a4[0]\n",
        "sample9 = a9[0]"
      ]
    },
    {
      "cell_type": "markdown",
      "metadata": {
        "id": "HThdCyg7EwxF"
      },
      "source": [
        "d) Let $R$ be the first 3 rows of $V^T$. Compute the orthogonal projection of $sample4$ onto the row space of $R_4$, and onto the row space of $R_9$"
      ]
    },
    {
      "cell_type": "code",
      "execution_count": null,
      "metadata": {
        "id": "2bppbZGbEwxF"
      },
      "outputs": [],
      "source": [
        "r4 = svd_a4[2][:3,:]  # first row from V^T\n",
        "r9 = svd_a9[2][:3,:]   # first row from V^T\n",
        "\n",
        "coeffs_in_r4 = r4 @ sample4  # What are the coordinates of sample4 orthogonally projected onto R4?\n",
        "coeffs_in_r9 = r9 @ sample9\n",
        "\n",
        "sample4_in_r4 = coeffs_in_r4 @ r4   # Linear combination of rows in R4\n",
        "sample4_in_r9 = coeffs_in_r9 @ r9   # Your code here."
      ]
    },
    {
      "cell_type": "markdown",
      "metadata": {
        "id": "WHYcfSmnEwxG"
      },
      "source": [
        "[Mathematical aside: where did the $\\Sigma$ go? This is a very important matrix, and strongly affects both interpretations and (in general) row- and column spaces. *Assuming* that the rank is $\\geq 3$ the row spaces should be the same whether or not we scale the basis vectors by some $\\sigma_i$ (since $\\sigma_i > 0$ for all $i=1,2,\\ldots, r$). That is enough for our application, though the interpretations of the vectors might be different. The rank assumption is rather important, and we will make rather casually based on knowledge about the data set. Later, we'll include a check for this in our code.]"
      ]
    },
    {
      "cell_type": "markdown",
      "metadata": {
        "id": "JsdV8VQnEwxG"
      },
      "source": [
        "e) Which of the projections is closest to sample4 (in the sense that the difference (sample4_in_z**?**t - sample4) as the smallest 2-norm?"
      ]
    },
    {
      "cell_type": "code",
      "execution_count": null,
      "metadata": {
        "id": "ol2sKk7NEwxG",
        "colab": {
          "base_uri": "https://localhost:8080/"
        },
        "outputId": "ed3d79af-1a6a-4f2e-9ca2-3512ad834601"
      },
      "outputs": [
        {
          "output_type": "stream",
          "name": "stdout",
          "text": [
            "Distance for data with label=4 is 19.75899698363075\n",
            "Distance for data with label=9 is 49.60207545660585\n"
          ]
        }
      ],
      "source": [
        "print(f'Distance for data with label=4 is {np.linalg.norm(sample4_in_r4-sample4)}')\n",
        "print(f'Distance for data with label=9 is {np.linalg.norm(sample4_in_r9-sample4)}')"
      ]
    },
    {
      "cell_type": "markdown",
      "metadata": {
        "id": "uwbX7woaEwxH"
      },
      "source": [
        "f) Create a function `split_data(data, data_labels, labels)` which takes a matrix of data (such as `training_data`), the labels of all rows (such as `training_labels`) and a vector of the labels (here the numbers 0,...,9) and returns a dictionary mapping a label to the matrix of all corresponding data.\n",
        "\n",
        "Here the dictionary would for instance have the key 2, and the corresponding value be the matrix of all the images in `data` classified as the number 2."
      ]
    },
    {
      "cell_type": "code",
      "execution_count": null,
      "metadata": {
        "id": "S7eSQb2gEwxH",
        "colab": {
          "base_uri": "https://localhost:8080/"
        },
        "outputId": "1c9d0887-942e-434b-ae96-ea8997b53186"
      },
      "outputs": [
        {
          "output_type": "execute_result",
          "data": {
            "text/plain": [
              "{1: array([[ 0.,  0.,  0., ..., 10.,  0.,  0.],\n",
              "        [ 0.,  0.,  0., ..., 16.,  1.,  0.],\n",
              "        [ 0.,  0.,  0., ..., 15.,  4.,  0.],\n",
              "        ...,\n",
              "        [ 0.,  0., 10., ..., 16., 16., 11.],\n",
              "        [ 0.,  0.,  3., ..., 16., 15., 11.],\n",
              "        [ 0.,  0.,  5., ..., 16., 11.,  2.]]),\n",
              " 4: array([[0., 0., 0., ..., 4., 0., 0.],\n",
              "        [0., 0., 0., ..., 4., 0., 0.],\n",
              "        [0., 0., 0., ..., 8., 0., 0.],\n",
              "        ...,\n",
              "        [0., 0., 0., ..., 0., 0., 0.],\n",
              "        [0., 0., 0., ..., 0., 0., 0.],\n",
              "        [0., 0., 3., ..., 0., 0., 0.]]),\n",
              " 6: array([[ 0.,  0.,  0., ..., 11.,  3.,  0.],\n",
              "        [ 0.,  0.,  0., ..., 16., 11.,  0.],\n",
              "        [ 0.,  0.,  1., ..., 14.,  7.,  0.],\n",
              "        ...,\n",
              "        [ 0.,  0.,  0., ..., 16.,  7.,  0.],\n",
              "        [ 0.,  0.,  0., ...,  5.,  0.,  0.],\n",
              "        [ 0.,  0.,  0., ..., 12.,  0.,  0.]]),\n",
              " 8: array([[ 0.,  0.,  9., ..., 11.,  1.,  0.],\n",
              "        [ 0.,  0., 10., ...,  0.,  0.,  0.],\n",
              "        [ 0.,  0., 10., ...,  1.,  0.,  0.],\n",
              "        ...,\n",
              "        [ 0.,  0.,  0., ..., 16., 14.,  0.],\n",
              "        [ 0.,  0.,  0., ..., 15., 13.,  0.],\n",
              "        [ 0.,  0.,  0., ..., 15., 15.,  0.]])}"
            ]
          },
          "metadata": {},
          "execution_count": 38
        }
      ],
      "source": [
        "def split_data(data, data_labels, labels):\n",
        "\n",
        "  data_dict = {} # creating the dict\n",
        "\n",
        "  # looping over all values in labels\n",
        "  for label in labels:\n",
        "    # matching index for data_labels and iterating label\n",
        "    index = [i for i, labl in enumerate(data_labels) if labl ==label]\n",
        "    # indice data for it label to the dict\n",
        "    data_dict[label] = data[index,:]\n",
        "\n",
        "  return data_dict\n",
        "\n",
        "\n",
        "split_data(training_digits, training_labels, (1,4,6,8)) # testing the function"
      ]
    },
    {
      "cell_type": "markdown",
      "metadata": {
        "id": "6ch_SUrLEwxH"
      },
      "source": [
        "f) Create a function `subspaces(labelled_data, k = 3)` that takes a dictionary such as above, and returns a dictionary mapping every occurring label $d$ to the respective $Z_d$ matrix with at most $k$ rows. Here the $Z_d$ matrices is defined as above, the best norm-2-approximation. If a particular matrix has a rank $r < k$, we should only keep $r$ rows (say, if there were many more *different* digit 9-rows in the training set, than digit 1:s)!"
      ]
    },
    {
      "cell_type": "code",
      "execution_count": null,
      "metadata": {
        "id": "w8l3uFiaEwxH"
      },
      "outputs": [],
      "source": [
        "def subspaces(labelled_data, k=3):\n",
        "\n",
        "    subspace_dic = {}\n",
        "\n",
        "    for key, data in labelled_data.items():\n",
        "        # svd to split dict data\n",
        "        svd = np.linalg.svd(data)\n",
        "\n",
        "        # compare k to rank and choose the minimum\n",
        "        k_rank_comparison = min(k,np.linalg.matrix_rank(data))\n",
        "\n",
        "        # keep at most k rows\n",
        "        V = svd[2][:k_rank_comparison, :]\n",
        "\n",
        "        # store the resulting matrix in the dictionary\n",
        "        subspace_dic[key] = V\n",
        "\n",
        "    return subspace_dic"
      ]
    },
    {
      "cell_type": "markdown",
      "metadata": {
        "id": "PaelCfuYEwxH"
      },
      "source": [
        "g) Create a function `classification(spaces, x)` that takes a dictionary such as produced by `subspaces` above and a single vector and produces the label of the subspace with the smallest norm-2-distance. In the task above, this would have meant that classifying $sample4$ would have produced the label 4 rather than 9, since $sample4$ was closer to the subspace $Z_4$ than the subspace $Z_9$."
      ]
    },
    {
      "cell_type": "code",
      "execution_count": null,
      "metadata": {
        "id": "-OA4rlHaEwxI"
      },
      "outputs": [],
      "source": [
        "def classification(spaces, x):\n",
        "  dist = {}\n",
        "\n",
        "  for key, data in spaces.items():\n",
        "    coeffs = data @ x # projecting vector on values\n",
        "\n",
        "    sample_in_data = coeffs @ data\n",
        "\n",
        "    dist[key] = np.linalg.norm(sample_in_data - x)\n",
        "\n",
        "  min_dist = min(dist, key = dist.get)\n",
        "  return min_dist"
      ]
    },
    {
      "cell_type": "markdown",
      "metadata": {
        "id": "EocBpJlAEwxI"
      },
      "source": [
        "h) Now pick the first 600 rows as training and the remaining (about 1100) as validation sets. What percentage does the classifier get right? What happens if you pick $k = 5, 10, 100, 1000$? Try it out. (The sharp-eyed student will notice that not all of these choices make sense from a mathematical perspective.)"
      ]
    },
    {
      "cell_type": "code",
      "execution_count": null,
      "metadata": {
        "id": "HIz1OHzMEwxI",
        "colab": {
          "base_uri": "https://localhost:8080/"
        },
        "outputId": "74dbf5ed-22f8-4adf-8aa9-6ce87c58d469"
      },
      "outputs": [
        {
          "output_type": "stream",
          "name": "stdout",
          "text": [
            "For k = 5 the accuracy is 0.9280936454849499 \n",
            "\n",
            "For k = 10 the accuracy is 0.9590301003344481 \n",
            "\n",
            "For k = 100 the accuracy is 0.5158862876254181 \n",
            "\n",
            "For k = 1000 the accuracy is 0.5158862876254181 \n",
            "\n"
          ]
        }
      ],
      "source": [
        "training_digits = digits.data[0:600, :]\n",
        "training_labels = digits.target[0:600]\n",
        "\n",
        "validation_digits = digits.data[601:, :]\n",
        "validation_labels = digits.target[601:]\n",
        "\n",
        "train_split = split_data(training_digits, training_labels, digits.target_names)\n",
        "\n",
        "\n",
        "for K in [5,10,100,1000]:\n",
        "  train_sub = subspaces(train_split, k = K)\n",
        "\n",
        "  pred = []\n",
        "\n",
        "  for row in range(validation_digits.shape[0]): # iterating over rows in validation data\n",
        "    row_pred = classification(train_sub, validation_digits[row,:])\n",
        "\n",
        "    pred.append(row_pred)\n",
        "\n",
        "  accuracy = len(np.where(validation_labels == pred)[0]) /validation_digits.shape[0] # calculate correct labels divided by total amount of rows\n",
        "\n",
        "  print(f\"For k = {K} the accuracy is {accuracy} \\n\")\n",
        "\n",
        "# K = 1000 doesn't make sense mathematically since it exceeds the dimensions of the data.\n",
        "\n"
      ]
    },
    {
      "cell_type": "markdown",
      "metadata": {
        "id": "osfv0pHSEwxI"
      },
      "source": [
        "## Acknowledgments"
      ]
    },
    {
      "cell_type": "markdown",
      "metadata": {
        "id": "1ntPXobrEwxJ"
      },
      "source": [
        "This lab in 732A74 is by Anders Märak Leffler (2019), with a major revision in 2020. The introductory text is by Johan Falkenjack (2018).\n",
        "\n",
        "Licensed under [CC-BY-SA 4.0](https://creativecommons.org/licenses/by-sa/4.0/)."
      ]
    }
  ],
  "metadata": {
    "anaconda-cloud": {},
    "kernelspec": {
      "display_name": "Python 3 (ipykernel)",
      "language": "python",
      "name": "python3"
    },
    "language_info": {
      "codemirror_mode": {
        "name": "ipython",
        "version": 3
      },
      "file_extension": ".py",
      "mimetype": "text/x-python",
      "name": "python",
      "nbconvert_exporter": "python",
      "pygments_lexer": "ipython3",
      "version": "3.11.0"
    },
    "colab": {
      "provenance": []
    }
  },
  "nbformat": 4,
  "nbformat_minor": 0
}