{
  "cells": [
    {
      "cell_type": "markdown",
      "metadata": {
        "id": "pRYMx_qgZ5Ld"
      },
      "source": [
        "# Lab 3: Functional programming, and declarative patterns\n"
      ]
    },
    {
      "cell_type": "markdown",
      "metadata": {
        "id": "_zRYIXtSZ5Lg"
      },
      "source": [
        "__Student I:__ johed883 (Johannes Hedström)\n",
        "\n",
        "__Student II:__ mikmo937 (Mikael Montén)"
      ]
    },
    {
      "cell_type": "markdown",
      "metadata": {
        "id": "VTFbcGZJZ5Lh"
      },
      "source": [
        "Disclaimer: Functional programming in Python does not always lead to the fastest possible code, and is often not considered the *pythonic* approach. However, functional programming is the basis for many concurrent systems (the MapReduce programming model which many big data systems, e.g. Hadoop, relies on gets its name from the *map* and *reduce* functions mentioned below). Python is a multi-paradigm language, and functional programming is one of the main paradigms one can use. To understand how and when to do this, it is necessary to do things in a non-*pythonic* way in order to cover the basics."
      ]
    },
    {
      "cell_type": "markdown",
      "metadata": {
        "id": "i3y7duDMZ5Lh"
      },
      "source": [
        "## General instructions\n",
        "\n",
        "In this lab there are some general rules you should keep in mind to make sure you are on the correct path in your solutions.\n",
        "\n",
        "#### Rules\n",
        "1. You are not allowed to use `while` or `for` statements unless this is explicitly allowed in the task.\n",
        "2. You are not allowed to use global variables (other than for functions defined in the global environment).\n",
        "3. Code stubs should be viewed as fixed, you are only allowed to add code, the only code you are allowed to change is `pass` statements, which you should remove.\n",
        "4. You should refrain from using the `list` datatype unless otherwise specified and instead use `tuple`. One of the strengths of functional programming is its focus on immutable data types (this is why functional programming and concurrency goes so well together). Incidentally, one might find speedups when using the immutable tuples instead of lists.\n",
        "\n",
        "#### Advice\n",
        "1. Avoid local variables unless you are certain they are necessary, in most cases you won't need to use local variables. (altermatively, use local variables to your hearts content, but when your solution works, try to eliminate them, you should be able to eliminate most of them, over time, you might find that you don't need them.)"
      ]
    },
    {
      "cell_type": "markdown",
      "metadata": {
        "id": "iVAcS7JAZ5Li"
      },
      "source": [
        "## 2 Higher order functions (HOF)\n",
        "\n",
        "A _higher-order function_ is a function which operates on other functions. What this means exactly is disputed, but we will call any function which returns a function or takes a function as an argument a higher-order function. (Conversely, a function neither taking another function as input nor returning a function we will refer to as a _first-order function_)\n",
        "\n",
        "In R you have encountered these when, for instance, using the `apply` family of functions, which are all versions of what is called a `map` function in functional programming (see below).\n",
        "\n",
        "When using higher-order functions, it is often useful to create simple anonymous functions at the place in the code where they are used, rather than defining a new named function in one place only to call it in a single other place. In R, all functions are created in this way with the `function` keyword, but they are usually assigned to global names with standard assignment (`<-`). Python provides similar functionality using the `lambda` keyword (name inspired by Alonzo Church's [$\\lambda$-calculus](https://www.youtube.com/watch?v=eis11j_iGMs) which has inspired much of functional programming) with which we can create anonymous functions. Of course, we can also pass named functions to higher-order functions, which is usually the case when the function is predefined, general enough to be used in more than one place, or complex enough to warrant separate definition and documentation for the sake of clarity."
      ]
    },
    {
      "cell_type": "markdown",
      "metadata": {
        "id": "cWEs5rTAZ5Lj"
      },
      "source": [
        "## 2.1 The three standard functions `map`, `reduce` and `filter`\n",
        "\n",
        "There are three standard cases which are widely applicable and many other higher-order functions are special cases or combinations of these. They are: `map`, apply a function on each element in a sequence, `filter`, keep (or conversely, remove) elements from a sequence according to some condition, and `reduce`, combine the elements in a sequence. The `map` function takes a sequence and a function (usually of 1 parameter) which is to be applied to each element of the sequence and might return anything, this function is assumed not to have side effects. The `filter` function takes a function (usually of 1 parameter) which returns a boolean value used to indicate which elements are to be kept. The `reduce` function takes a function (usually of 2 parameters) which is used to combine the elements in the sequence.\n",
        "\n",
        "In Python, `map` and `filter` are standard built-in functions. Since Python 3, the `reduce` function needs to be imported from the `functools` module.\n",
        "\n",
        "Many more advanced functions, of any order, can be created by combining these three higher-order functions.\n",
        "\n",
        "A note from last year: usually, the `reduce` function is more difficult to grasp than `map` and `filter` but I found this blog-post by André Burgaud to be a nice introduction to `reduce`. Note that Burgaud talks about the more general _fold_ concept rather than `reduce`, which is a special case of fold often called _left fold_ (this is covered in more detail in the post). https://www.burgaud.com/foldl-foldr-python/"
      ]
    },
    {
      "cell_type": "markdown",
      "metadata": {
        "id": "LQt9-mYfZ5Lk"
      },
      "source": [
        "a) Implement a function `mysum` which computes the sum of a list or tuple of numbers using the reduce function and a lambda function."
      ]
    },
    {
      "cell_type": "code",
      "execution_count": null,
      "metadata": {
        "colab": {
          "base_uri": "https://localhost:8080/"
        },
        "id": "Lnsyg6qhZ5Lk",
        "outputId": "c3c370df-bcb4-49ef-d4f5-c7151ad116a5"
      },
      "outputs": [
        {
          "output_type": "execute_result",
          "data": {
            "text/plain": [
              "12"
            ]
          },
          "metadata": {},
          "execution_count": 2
        }
      ],
      "source": [
        "from functools import reduce\n",
        "\n",
        "def mysum(seq):\n",
        "  return reduce(lambda current_it, next_it : current_it + next_it, seq) # using reduce and lambda to summarize\n",
        "                                                                        # the sequence\n",
        "\n",
        "mysum((4, 7, 1))"
      ]
    },
    {
      "cell_type": "markdown",
      "metadata": {
        "id": "7nsRIePeZ5Ll"
      },
      "source": [
        "b) Implement a function `mylength` which uses `map` and `reduce` (or only `reduce`, if you feel like it) to compute the length of a sequence. The use of the `len` function is not allowed.\n",
        "\n",
        "[Hint: You can use `map` to convert the input to something which can easily be `reduce`:d.]"
      ]
    },
    {
      "cell_type": "code",
      "execution_count": null,
      "metadata": {
        "colab": {
          "base_uri": "https://localhost:8080/"
        },
        "id": "ueEeqdYfZ5Ll",
        "outputId": "dd6a9e42-ab61-4897-e633-2d671a4750aa"
      },
      "outputs": [
        {
          "output_type": "execute_result",
          "data": {
            "text/plain": [
              "3"
            ]
          },
          "metadata": {},
          "execution_count": 3
        }
      ],
      "source": [
        "# creating my length\n",
        "def mylength(seq):\n",
        "  def count(ele,_): # count function which reduce will use\n",
        "    return ele+1\n",
        "  return reduce(count,seq,0) # reduce with the count function with initial value of 0\n",
        "\n",
        "mylength((4, 7, 1)) # results looks correct"
      ]
    },
    {
      "cell_type": "code",
      "source": [
        "my_list =[1, 2, 3, 4, 5]\n",
        "mylength(my_list)\n"
      ],
      "metadata": {
        "colab": {
          "base_uri": "https://localhost:8080/"
        },
        "id": "vnd6Pxq_mxP3",
        "outputId": "a8543b09-d41f-4b94-9fca-de7bdcfd5098"
      },
      "execution_count": null,
      "outputs": [
        {
          "output_type": "execute_result",
          "data": {
            "text/plain": [
              "5"
            ]
          },
          "metadata": {},
          "execution_count": 45
        }
      ]
    },
    {
      "cell_type": "markdown",
      "metadata": {
        "id": "KsTJ_oIIZ5Lm"
      },
      "source": [
        "## 2.2 Returning functions\n",
        "\n",
        "The previous section covered functions which take other functions as input, but what about the opposite, functions returning functions as output?"
      ]
    },
    {
      "cell_type": "markdown",
      "metadata": {
        "id": "T3tKXivDZ5Lm"
      },
      "source": [
        "a) Function composition is a common in both maths and programming. Write a function `compose` which takes two functions, $f$ and $g$, and produces the _composite_ function $f \\circ g$, where $(f \\circ g)(x) \\Leftrightarrow f(g(x))$. Example use is given below."
      ]
    },
    {
      "cell_type": "code",
      "execution_count": null,
      "metadata": {
        "scrolled": true,
        "colab": {
          "base_uri": "https://localhost:8080/"
        },
        "id": "kYpduuhoZ5Lm",
        "outputId": "9241d3c8-62fa-4c0c-b8d4-cf737b4fcdd0"
      },
      "outputs": [
        {
          "output_type": "stream",
          "name": "stdout",
          "text": [
            "[-1.507556722888818, -1.2060453783110545, -0.9045340337332909, -0.6030226891555273, -0.30151134457776363, 0.0, 0.30151134457776363, 0.6030226891555273, 0.9045340337332909, 1.2060453783110545, 1.507556722888818]\n"
          ]
        }
      ],
      "source": [
        "from statistics import stdev, mean\n",
        "\n",
        "def compose(f, g):\n",
        "    return lambda x: f(g(x))\n",
        "\n",
        "def myscale(vals):\n",
        "    return [x/stdev(vals) for x in vals]\n",
        "\n",
        "def myshift(vals):\n",
        "    return [x-mean(vals) for x in vals]\n",
        "\n",
        "standardize = compose(myscale, myshift)\n",
        "\n",
        "print(standardize(range(-3, 8)))\n"
      ]
    },
    {
      "cell_type": "markdown",
      "metadata": {
        "id": "RzsyMxhWZ5Ln"
      },
      "source": [
        "**Voluntary task (not required)**\n",
        "Create a function `composition(*funs)` which takes a non-empty sequence of functions of one argument and returns their sequential composition. That is $composition(f_0,f_1, \\ldots, f_n) = f_0 \\circ f_1 \\circ\\ldots \\circ f_n$. (The question of if $f\\circ g \\circ h$ should be read $f\\circ (g\\circ h)$ or $(f \\circ g) \\circ h$ is perfectly valid, but they turn out to be the same. That is, $\\circ$ is associative.)"
      ]
    },
    {
      "cell_type": "code",
      "execution_count": null,
      "metadata": {
        "colab": {
          "base_uri": "https://localhost:8080/"
        },
        "id": "YToq-_i7Z5Ln",
        "outputId": "91ff4ac9-8706-4948-adfa-96d81bf85a3f"
      },
      "outputs": [
        {
          "output_type": "execute_result",
          "data": {
            "text/plain": [
              "[-1.507556722888818,\n",
              " -1.2060453783110545,\n",
              " -0.9045340337332909,\n",
              " -0.6030226891555273,\n",
              " -0.30151134457776363,\n",
              " 0.0,\n",
              " 0.30151134457776363,\n",
              " 0.6030226891555273,\n",
              " 0.9045340337332909,\n",
              " 1.2060453783110545,\n",
              " 1.507556722888818]"
            ]
          },
          "metadata": {},
          "execution_count": 68
        }
      ],
      "source": [
        "def composition(*funs):\n",
        "    \"reversing the funs for the composition, using an anonymous lambda run values through our functions in reduce\"\n",
        "    return lambda x:reduce(lambda g,f : f(g), reversed(funs),x)\n",
        "\n",
        "composition(myscale, myshift)(range(-3, 8)) # looks to be the same results as above"
      ]
    },
    {
      "cell_type": "markdown",
      "metadata": {
        "id": "VbXQ17WeZ5Ln"
      },
      "source": [
        "Hint: Don't remember what can be found in `*funs`? Print it! Don't know how the values should be combined? Write out some simple example on paper."
      ]
    },
    {
      "cell_type": "markdown",
      "metadata": {
        "id": "afsn5UJxZ5Lo"
      },
      "source": [
        "Note: This task demonstrates the generality of our constructs. Previously we worked with sequences of numbers and the like. Now we lift this to the level of working with functions as values, and instead of using combinators which work on numbers, we use function combinators in conjunction with our known patterns."
      ]
    },
    {
      "cell_type": "markdown",
      "metadata": {
        "id": "Od_F9AUxZ5Lo"
      },
      "source": [
        "### Voluntary task: pipelining\n",
        "\n",
        "When doing data analysis, one very important part is pre-processing. Often, data goes through a number of steps of preprocessing, sometimes called a pipeline. The function composition example above can be seen as a special case of such a pipeline for only two functions. By clever use of higher order functions, we can build a pipeline function which takes a list or tuple of data transforming functions and creates a function which applies these sequentially. Construct such a function called `make_pipeline`. In order to focus on the primary purpose of the `make_pipeline` function, we will perform a very simple set of transformations, increment each value by 1, take the absolute value, and then take the square root. Usage example and code for the `inc` function is supplied below.\n",
        "\n",
        "You may want to use functions you have defined above."
      ]
    },
    {
      "cell_type": "code",
      "execution_count": null,
      "metadata": {
        "scrolled": false,
        "id": "9CXq9W1KZ5Lo"
      },
      "outputs": [],
      "source": [
        "from functools import reduce, partial\n",
        "from math import sqrt\n",
        "\n",
        "\n",
        "def make_pipeline(*funs):\n",
        "    return lambda vals: reduce(lambda x, f: f(x), funs, vals)\n",
        "\n",
        "def inc(x):\n",
        "    return x+1\n",
        "\n",
        "def absolute(x):\n",
        "    return abs(x)\n",
        "\n",
        "def sq_root(x):\n",
        "    return sqrt(x)\n",
        "\n",
        "pipeline = make_pipeline(inc, absolute, sq_root)\n",
        "\n",
        "tuple(pipeline(range(-5,5)))"
      ]
    },
    {
      "cell_type": "markdown",
      "metadata": {
        "id": "TIj8BrFeZ5Lo"
      },
      "source": [
        "## 3. Simple declarative Pythonic patterns (involving higher order functions)"
      ]
    },
    {
      "cell_type": "markdown",
      "metadata": {
        "id": "rupnGUJFZ5Lo"
      },
      "source": [
        "a) As preparation, create a named tuple type \"coord\" which has fields `x` and `y`."
      ]
    },
    {
      "cell_type": "code",
      "execution_count": null,
      "metadata": {
        "id": "qhGRsE_bZ5Lp"
      },
      "outputs": [],
      "source": [
        "from collections import namedtuple # importing namedtuple\n",
        "coord = namedtuple(\"coord\", \"x y\") # creating the tuple \"coord\" with fields x and y\n",
        "\n",
        "five_three = coord(5,3)\n",
        "assert five_three.x == 5, \"first element is the x coordinate\"\n",
        "assert five_three.y == 3, \"the second element is the y coordinate\""
      ]
    },
    {
      "cell_type": "markdown",
      "metadata": {
        "id": "wihrhsXgZ5Lp"
      },
      "source": [
        "b) Generate a $10^7$ random coordinates, with $x$ and $y$ coordinates drawn uniformly from [-1000,1000]. Save the tuple of those with $x + y > 0$ as `rnd_coords`. How many are there (probably fewer than $10^7$)?"
      ]
    },
    {
      "cell_type": "code",
      "execution_count": null,
      "metadata": {
        "id": "iz8VCxzwZ5Lp"
      },
      "outputs": [],
      "source": [
        "from random import uniform\n",
        "\n",
        "# generating 10^7 nr of coordinates uniformly between -1000:1000\n",
        "random_coords = tuple(map(lambda _ : (uniform(-1000,1000), uniform(-1000,1000)), range(10**7)))\n",
        "\n",
        "# filtering out on the condition thath x + y > 0\n",
        "rnd_coords = tuple(filter(lambda coord: coord[0] + coord[1] > 0, random_coords))\n",
        "\n"
      ]
    },
    {
      "cell_type": "code",
      "source": [
        "len(rnd_coords) # much less then 10^7 nr of coordinates"
      ],
      "metadata": {
        "colab": {
          "base_uri": "https://localhost:8080/"
        },
        "id": "o55V1-JV0sq8",
        "outputId": "fddaafc4-fb77-4189-a793-9d973a858695"
      },
      "execution_count": null,
      "outputs": [
        {
          "output_type": "execute_result",
          "data": {
            "text/plain": [
              "5000069"
            ]
          },
          "metadata": {},
          "execution_count": 14
        }
      ]
    },
    {
      "cell_type": "markdown",
      "metadata": {
        "id": "KCKM6z7PZ5Lp"
      },
      "source": [
        "[Note: If this takes a while, you might want to consider when the elements are generated and saved!]"
      ]
    },
    {
      "cell_type": "markdown",
      "metadata": {
        "id": "IzjyHh6nZ5Lp"
      },
      "source": [
        "**Before having solved the tasks below, consider setting `coords` to a smaller set (eg generate $10^3$ elements instead of $10^7$ to start with).**"
      ]
    },
    {
      "cell_type": "markdown",
      "metadata": {
        "id": "PCLYCt6FZ5Lp"
      },
      "source": [
        "c) Let `sorted_rnd` be the coordinated sorted first by the `x` component and then the `y`. Use a built-in Python sorting function. Do you need any extra parameters? Why? Why not? How would you find out where the order comes from (and might it be consistent but useless, eg sorting the elements by memory location)?"
      ]
    },
    {
      "cell_type": "code",
      "source": [
        "rnd_coords_short = rnd_coords[:10**3] # only taking the first 1000 values"
      ],
      "metadata": {
        "id": "IRwlUc7k2arg"
      },
      "execution_count": null,
      "outputs": []
    },
    {
      "cell_type": "code",
      "execution_count": null,
      "metadata": {
        "id": "K9mG3CliZ5Lq",
        "colab": {
          "base_uri": "https://localhost:8080/"
        },
        "outputId": "aba2cc95-eecd-4123-fda2-6a885aaecf03"
      },
      "outputs": [
        {
          "output_type": "execute_result",
          "data": {
            "text/plain": [
              "[(-968.7941047707474, 981.2956537259793),\n",
              " (-961.8169488392206, 963.7476944945006),\n",
              " (-947.9346882201087, 973.1724109087831),\n",
              " (-918.5519325850437, 919.2532586653849),\n",
              " (-915.3089553041183, 939.0811920128374),\n",
              " (-890.7226284919457, 909.6381445488669),\n",
              " (-870.803534511676, 962.271297836561),\n",
              " (-867.5551159763311, 951.0072920433697),\n",
              " (-836.755764901483, 948.0017195432401),\n",
              " (-825.7897364305536, 994.1121684691434)]"
            ]
          },
          "metadata": {},
          "execution_count": 39
        }
      ],
      "source": [
        "# sorting the short rnd_coords on x and if ties on y\n",
        "sorted_rnd = sorted(rnd_coords_short, key= lambda coord : (coord[0], coord[1]))\n",
        "\n",
        "\"The extra parameter needed is key to choose that were sorting on x first through the lambda function\"\n",
        "\"Tuples are positionally ordered objects according to a left-to-right order regardless of memory allocation per element, which is consistent and fixed.\"\n",
        "\n",
        "sorted_rnd[:10] # looks to be sorted correctly on x"
      ]
    },
    {
      "cell_type": "markdown",
      "metadata": {
        "id": "pwWd7-UeZ5Lq"
      },
      "source": [
        "[General words of advice:\n",
        "\n",
        "* During testing, you might want to use a smaller data set (and then try it out at a larger set).\n",
        "* You might not want to display the entire list to see if you're right all the time. Slicing out the first and last elements, say the first or last 10, might provide some hints.\n",
        "* You could naturally define a function which checks that the list is in order (or performs some probabilistic sampling test), to test this.]"
      ]
    },
    {
      "cell_type": "markdown",
      "metadata": {
        "id": "R2WOxD-qZ5Lq"
      },
      "source": [
        "d) Sort the values (in the sense of returning a new sorted tuple) by their Euclidean distance to the point (5,3). Continue using a built-in Python sorting function."
      ]
    },
    {
      "cell_type": "code",
      "execution_count": null,
      "metadata": {
        "id": "HPGg-0bsZ5Lq",
        "colab": {
          "base_uri": "https://localhost:8080/"
        },
        "outputId": "89ea4232-2e3d-4fcc-b39e-473a049ecf73"
      },
      "outputs": [
        {
          "output_type": "execute_result",
          "data": {
            "text/plain": [
              "[(9.787968293192307, -8.790400813432257),\n",
              " (132.17665417708258, 5.334107643059269),\n",
              " (4.319542238157624, 515.3847961531121),\n",
              " (411.5333163816365, 4.818409537124012),\n",
              " (204.79800277868594, 6.869760990355189),\n",
              " (26.994223676744923, 38.430106222458335),\n",
              " (-3.005140347683664, 111.05164349897109),\n",
              " (178.78428339053698, 9.045434142516342),\n",
              " (1.3771223675494184, 309.5678663455294),\n",
              " (-28.182065799910788, 38.56807990913967)]"
            ]
          },
          "metadata": {},
          "execution_count": 50
        }
      ],
      "source": [
        "pts_near_53 = sorted(rnd_coords_short, key= lambda coord : ((((coord[0]-5)*(coord[1]-3))**2)**0.5))\n",
        "\"X values - 5 and Y - 3, to calculate the distance to the point (5,3)\"\n",
        "\"Using ^0.5 instead of square root \"\n",
        "pts_near_53[:10] # 10 closest values"
      ]
    },
    {
      "cell_type": "markdown",
      "metadata": {
        "id": "sEHS8M3eZ5Lq"
      },
      "source": [
        "Note: here we customise the behaviour of a built-in function by passing it information about our intended ordering."
      ]
    },
    {
      "cell_type": "markdown",
      "metadata": {
        "id": "RvbPLuTqZ5Lr"
      },
      "source": [
        "e) Define the function `sorted_by_distance(origo)` which takes a coordinate `origo` and returns a function which sorts the sequence by the euclidean distance to `origo`. (Ie those closest to origo come first in the list.)"
      ]
    },
    {
      "cell_type": "code",
      "execution_count": null,
      "metadata": {
        "id": "fWmSUQXIZ5Lr"
      },
      "outputs": [],
      "source": [
        "def sorted_by_distance(origo):\n",
        "      # calculating the distance to \"origo\"\n",
        "  def  euclidean(coord):\n",
        "    return ((((coord[0]-origo[0])*(coord[1]-origo[1]))**2)**0.5)\n",
        "  # returning the sorted function on euclidean distance\n",
        "  return lambda coords: sorted(coords, key=euclidean)\n",
        "\n",
        "\n",
        "\n",
        "ordered_by_closeness_to_53 = sorted_by_distance(coord(5,3))   # Return the function.\n",
        "pts_near_53_2 = ordered_by_closeness_to_53(rnd_coords_short)     # Applying the function on rnd_coords_short, I cant find in the tasks where we were suppose to create \"coords\"\n",
        "\n",
        "assert pts_near_53 == pts_near_53_2"
      ]
    },
    {
      "cell_type": "markdown",
      "metadata": {
        "id": "0VprOhpPZ5Lr"
      },
      "source": [
        "[Note: Here we extend the work above to a higher-order function, which uses the local value of `origo`. In essence, this task summarises higher order functionality - we create a closure, return a function and use a custom ordering ]"
      ]
    },
    {
      "cell_type": "markdown",
      "metadata": {
        "id": "VnaAfmhrZ5Lr"
      },
      "source": [
        "f) So far in the course, we have seen, and possibly used `enumerate`, `range`, `zip`, `map` and `filter` as declarative constructs (along with the general comprehension syntax). Now we introduce a further useful iterator construct. Construct something called `reverse_squared` which when prompted would give us the squares of elements 0,...,N _but in reverse_ (that is $N^2, (N-1)^2, ..., 2^2, 1^2, 0^2$). You may not give `range` a negative step length in this task (we are interested in more general ways of expressing that we want to iterate in another order, which in this and many cases will prove efficient)."
      ]
    },
    {
      "cell_type": "code",
      "execution_count": null,
      "metadata": {
        "id": "PNXD2uF2Z5Lr"
      },
      "outputs": [],
      "source": [
        "# The time it takes to run this shouldn't really depend on if you use SMALL_N or BIG_N.\n",
        "\n",
        "BIG_N = 99999999\n",
        "SMALL_N = 999\n",
        "\n",
        "N = SMALL_N # change this to test later on\n",
        "seq = reversed(range(N+1))\n",
        "reverse_squares = tuple(i * i for i in seq)\n",
        "\n",
        "reverse_squares"
      ]
    },
    {
      "cell_type": "code",
      "execution_count": null,
      "metadata": {
        "scrolled": true,
        "id": "mWlqbdcuZ5Ls"
      },
      "outputs": [],
      "source": [
        "# Experimentation: copy and paste your code from above into this cell.\n",
        "# This is rather crude, but we want you to to be able to trust that any\n",
        "# slowness in the cell above can be found by reference to that code, not the\n",
        "# profiling code below.\n",
        "\n",
        "# Copy-pasting as it might be useful to have fresh maps.\n",
        "\n",
        "import profile\n",
        "\n",
        "# We cut and paste this code\n",
        "BIG_N = 99999999\n",
        "SMALL_N = 999\n",
        "\n",
        "N = BIG_N\n",
        "# Look at the run time. Switching from BIG_N to SMALL_N shouldn't really matter.\n",
        "# This suggests that we have quick access to elements at the end of our (squared) range.\n",
        "\n",
        "seq = reversed(range(N+1))\n",
        "reverse_squares = tuple(i * i for i in seq)\n",
        "\n",
        "profile.run(\"print(f'Did we find it? ', N**2 in reverse_squares)\")"
      ]
    },
    {
      "cell_type": "markdown",
      "metadata": {
        "id": "jpUQ9ZaZZ5Ls"
      },
      "source": [
        "Note: once you know of the construct, this task is extremely simple. It mostly serves as a demonstration of the availability of these constructs, and how they can be combined. Also, it points to efficiency considerations when using declarative iterator constructs as opposed to fixed computed structures.\n",
        "\n",
        "As the profiling code above suggests, where we redefine the object in every run, we do not have a purely functional construct. In that case, we wouldn't be able to exhaust the values."
      ]
    },
    {
      "cell_type": "markdown",
      "metadata": {
        "id": "9KryQmpTZ5Lw"
      },
      "source": [
        "[Additional reading: some additional tools are available in the `itertools` module.]"
      ]
    },
    {
      "cell_type": "markdown",
      "metadata": {
        "id": "JpxHhbC3Z5Lw"
      },
      "source": [
        "## 4 Mutating function state\n",
        "\n",
        "A function always has access to the environment in which it was created. Usually, this means that the function can access global variables. It also means that it can access and modify local bindings from where it was created.\n",
        "\n",
        "A closure is a function which has access to an environment which is not accessible from outside the function (but which is not destroyed when the function returns). I.e. it is a way to introduce a small measure of statefulness into functional programming. In Python, iterators and generators work much like this. However, we can use the general concept in many cases."
      ]
    },
    {
      "cell_type": "markdown",
      "metadata": {
        "id": "mcrngaTgZ5Lx"
      },
      "source": [
        "a) Implement a function `make_counter` which has a single parameter `n` which acts as the initial value for a counter. The function should return a function with no parameters which, when called, increments the value of `n` by 1 and returns the new value."
      ]
    },
    {
      "cell_type": "code",
      "execution_count": null,
      "metadata": {
        "colab": {
          "base_uri": "https://localhost:8080/"
        },
        "id": "EZm_PFE8Z5Lx",
        "outputId": "7519ab07-50ca-4ea7-ef56-bff8a67d3cbb"
      },
      "outputs": [
        {
          "output_type": "stream",
          "name": "stdout",
          "text": [
            "To show that the functions do not affect each others' states, consider the printout:\n",
            "counter_A returns: 1\n",
            "counter_A returns: 2\n",
            "counter_B returns: 16\n",
            "counter_A returns: 3 (was it affected by the call to counter_B?)\n"
          ]
        }
      ],
      "source": [
        "def make_counter(n):\n",
        "  def counter():\n",
        "    nonlocal n\n",
        "    n += 1\n",
        "    return n\n",
        "  return counter\n",
        "\n",
        "\n",
        "\n",
        "counter_A = make_counter(0)\n",
        "counter_B = make_counter(15)\n",
        "\n",
        "print(\"To show that the functions do not affect each others' states, consider the printout:\")\n",
        "print(f\"counter_A returns: {counter_A()}\")\n",
        "print(f\"counter_A returns: {counter_A()}\")\n",
        "print(f\"counter_B returns: {counter_B()}\")\n",
        "print(f\"counter_A returns: {counter_A()} (was it affected by the call to counter_B?)\")"
      ]
    },
    {
      "cell_type": "markdown",
      "metadata": {
        "id": "BPX5OcAFZ5Lx"
      },
      "source": [
        "## Attribution\n",
        "\n",
        "Lab by Johan Falkenjack (2018), extended and rewritten by Anders Märak Leffler (2019).\n",
        "\n",
        "License [CC-BY-SA 4.0](https://creativecommons.org/licenses/by-sa/4.0/)"
      ]
    }
  ],
  "metadata": {
    "kernelspec": {
      "display_name": "Python 3 (ipykernel)",
      "language": "python",
      "name": "python3"
    },
    "language_info": {
      "codemirror_mode": {
        "name": "ipython",
        "version": 3
      },
      "file_extension": ".py",
      "mimetype": "text/x-python",
      "name": "python",
      "nbconvert_exporter": "python",
      "pygments_lexer": "ipython3",
      "version": "3.11.0"
    },
    "colab": {
      "provenance": []
    }
  },
  "nbformat": 4,
  "nbformat_minor": 0
}