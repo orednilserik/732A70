{
  "cells": [
    {
      "cell_type": "markdown",
      "source": [],
      "metadata": {
        "id": "P-3coDjGZiRW"
      }
    },
    {
      "cell_type": "markdown",
      "metadata": {
        "id": "eHvwsYVgZXP5"
      },
      "source": [
        "# Laboration 2"
      ]
    },
    {
      "cell_type": "markdown",
      "metadata": {
        "id": "d3Tbbc9PZXQA"
      },
      "source": [
        "__Student I:__ johed883 (Johannes Hedström)\n",
        "\n",
        "__Student II:__ mikmo937 (Mikael Montén)"
      ]
    },
    {
      "cell_type": "markdown",
      "metadata": {
        "id": "5pT2zpyIZXQC"
      },
      "source": [
        "# Introduction\n",
        "In this first part of the lab, we will be exploring\n",
        "* Functions\n",
        "    * How functions are called.\n",
        "    * Argument passing\n",
        "    * Return values.\n",
        "* Function usage\n",
        "    * Construction of simple multi-function programs.\n",
        "    * Functions that work on several kinds of inputs (ie simple polymorphism via duck typing).\n",
        "\n",
        "Additionally we will touch upon\n",
        "* Exceptions and\n",
        "* simple assertion testing and debugging."
      ]
    },
    {
      "cell_type": "markdown",
      "metadata": {
        "id": "vx2JyfSYZXQE"
      },
      "source": [
        "This lab might require you to search for information on your own to a larger extent than in lab 1. As in the last lab, Lutz' Learning Python and the [official documentation](https://docs.python.org) might be helpful. Also make sure to make use of the available lab assistance!"
      ]
    },
    {
      "cell_type": "markdown",
      "metadata": {
        "id": "LeHBtQkEZXQF"
      },
      "source": [
        "# A note on rules"
      ]
    },
    {
      "cell_type": "markdown",
      "metadata": {
        "id": "i7k8mFZGZXQG"
      },
      "source": [
        "Please make sure to conform to the (previously mentioned) [IDA lab rules](https://www.ida.liu.se/~732A74/labs/index.en.shtml)."
      ]
    },
    {
      "cell_type": "markdown",
      "metadata": {
        "id": "KILzMjziZXQG"
      },
      "source": [
        "## Functions in Python"
      ]
    },
    {
      "cell_type": "markdown",
      "metadata": {
        "id": "H_u2XAJHZXQI"
      },
      "source": [
        "a) Write a function that takes a radius and returns area of a circle with that radius. What would be a good name for the function and the argument? Python has a value for $\\pi$ in a certain standard library module. Which might that be? Don't type in the constant yourself."
      ]
    },
    {
      "cell_type": "code",
      "execution_count": null,
      "metadata": {
        "id": "W0m5cv3gZXQJ"
      },
      "outputs": [],
      "source": [
        "from math import pi # importing pi from math\n",
        "\n",
        "def circle_area(r): # circle_area function with argument r(radius)\n",
        "\n",
        "  return (pi * (r**2)) # circle area\n",
        "\n"
      ]
    },
    {
      "cell_type": "markdown",
      "metadata": {
        "id": "XBbCsR0AZXQL"
      },
      "source": [
        "[Hint: Google. Or consider modules we have `import`ed previously.]"
      ]
    },
    {
      "cell_type": "markdown",
      "metadata": {
        "id": "6tjUnB1YZXQM"
      },
      "source": [
        "b) How would you call the function, if you wanted to calculate the area of a circle with radius 10cm?"
      ]
    },
    {
      "cell_type": "code",
      "execution_count": null,
      "metadata": {
        "id": "Ydy3XH-7ZXQM",
        "colab": {
          "base_uri": "https://localhost:8080/"
        },
        "outputId": "5d469c48-f7a7-4134-d438-2320c0846db6"
      },
      "outputs": [
        {
          "output_type": "execute_result",
          "data": {
            "text/plain": [
              "314.1592653589793"
            ]
          },
          "metadata": {},
          "execution_count": 2
        }
      ],
      "source": [
        "circle_area(10) # calling the function"
      ]
    },
    {
      "cell_type": "markdown",
      "metadata": {
        "id": "XMYjEDVRZXQN"
      },
      "source": [
        "c) How would you call the function using named arguments/keyword arguments?"
      ]
    },
    {
      "cell_type": "code",
      "execution_count": null,
      "metadata": {
        "id": "YjZZ1xOmZXQN",
        "colab": {
          "base_uri": "https://localhost:8080/"
        },
        "outputId": "f98588b6-c5fb-4ad0-e636-73009c0923d0"
      },
      "outputs": [
        {
          "output_type": "execute_result",
          "data": {
            "text/plain": [
              "78.53981633974483"
            ]
          },
          "metadata": {},
          "execution_count": 3
        }
      ],
      "source": [
        "radius = 5 # named arguments\n",
        "circle_area(radius) # running the function"
      ]
    },
    {
      "cell_type": "markdown",
      "metadata": {
        "id": "W1uHTE2ZZXQN"
      },
      "source": [
        "[Note: In this case, the calling of the function is somewhat artificial. When writing scripts or working with programs that take several parameters, this style can be quite useful. This sidesteps questions of if this particular library takes the input or the output as the first argument, or the like. The code of course becomes more verbose.]"
      ]
    },
    {
      "cell_type": "code",
      "execution_count": null,
      "metadata": {
        "id": "ry_inCXlZXQO"
      },
      "outputs": [],
      "source": []
    },
    {
      "cell_type": "markdown",
      "metadata": {
        "id": "xkvj26CZZXQO"
      },
      "source": [
        "d) Write a function `circle_area_safe(radius)` which uses an if statement to check that the radius is positive and prints `The radius must be positive` to the screen if it is not, and otherwise calls the `circle_area` function. Also, if the radius is not positive the `circle_area_safe` function should signal to the code calling it that it has failed by returning `None`."
      ]
    },
    {
      "cell_type": "code",
      "execution_count": null,
      "metadata": {
        "id": "5wtHiYbEZXQP"
      },
      "outputs": [],
      "source": [
        "def circle_area_safe(radius): # creating the function\n",
        "  if radius <= 0 :\n",
        "    print('The radius must be positive') # if its negative\n",
        "    return None\n",
        "  else: # else as normal\n",
        "      return circle_area(radius)\n",
        "\n",
        "\n"
      ]
    },
    {
      "cell_type": "markdown",
      "metadata": {
        "id": "BVdmFHN8ZXQQ"
      },
      "source": [
        "e) Recreate the `circle_area_safe` function (call this version `circle_area_safer`) but instead of printing a message to the screen and returning `None` if the radius is negative, _raise_ a ValueError exception with suitable error message as argument."
      ]
    },
    {
      "cell_type": "code",
      "execution_count": null,
      "metadata": {
        "id": "6ubhjEJIZXQQ"
      },
      "outputs": [],
      "source": [
        "\n",
        "# safer version\n",
        "def circle_area_safer(radius):\n",
        "  if radius <= 0:\n",
        "    ValueError('The radius must be positive') # adding the value error\n",
        "  else:\n",
        "    return circle_area(radius)"
      ]
    },
    {
      "cell_type": "markdown",
      "metadata": {
        "id": "QfEKWajEZXQS"
      },
      "source": [
        "f) To test out how functions are called in Python, create a function `print_num_args` that prints the number of arguments it has been called with. The count should not include keyword arguments."
      ]
    },
    {
      "cell_type": "code",
      "execution_count": null,
      "metadata": {
        "scrolled": true,
        "id": "h86hmtweZXQT"
      },
      "outputs": [],
      "source": [
        "# creating the functino\n",
        "def print_num_args(*args, **kwargs): # args and kwargs let it accept any number of arguments key or not\n",
        "  print(f'Number of non keyword arguments are {len(args)}')\n"
      ]
    },
    {
      "cell_type": "code",
      "source": [
        "print_num_args(1, 2, 3) # testing the functions\n",
        "print_num_args(1, 2, key1='value1', key2='value2')"
      ],
      "metadata": {
        "colab": {
          "base_uri": "https://localhost:8080/"
        },
        "id": "pEZ91YUwuRCm",
        "outputId": "bb830beb-a376-46c2-9be7-e4b1afe0ad02"
      },
      "execution_count": null,
      "outputs": [
        {
          "output_type": "stream",
          "name": "stdout",
          "text": [
            "Number of non keyword arguments are 3\n",
            "Number of non keyword arguments are 2\n"
          ]
        }
      ]
    },
    {
      "cell_type": "markdown",
      "metadata": {
        "id": "CbDCLq-GZXQU"
      },
      "source": [
        "g) Write a function `print_kwargs` that prints all the keyword arguments."
      ]
    },
    {
      "cell_type": "code",
      "execution_count": null,
      "metadata": {
        "scrolled": true,
        "id": "C3uNexfdZXQV"
      },
      "outputs": [],
      "source": [
        "# creating the functino\n",
        "def print_num_kwargs(*args, **kwargs): # args and kwargs let it accept any number of arguments key or not\n",
        "  print(f'The keyword arguments are \\n')\n",
        "  print(kwargs)\n"
      ]
    },
    {
      "cell_type": "code",
      "source": [
        "print_num_kwargs(1, 2, 3) # testing the functions\n",
        "print_num_kwargs(1, 2, key1='value1', key2='value2')"
      ],
      "metadata": {
        "colab": {
          "base_uri": "https://localhost:8080/"
        },
        "id": "eF-SCZ97t5DV",
        "outputId": "b4f634c9-013f-4bd2-e9f4-157a9c1911e1"
      },
      "execution_count": null,
      "outputs": [
        {
          "output_type": "stream",
          "name": "stdout",
          "text": [
            "The keyword arguments are \n",
            "\n",
            "{}\n",
            "The keyword arguments are \n",
            "\n",
            "{'key1': 'value1', 'key2': 'value2'}\n"
          ]
        }
      ]
    },
    {
      "cell_type": "markdown",
      "metadata": {
        "id": "wrZXnXJnZXQW"
      },
      "source": [
        "h) Below we have a very simple program. Run the first cell. It will succeed. What happens when you run the second cell, and why? In particular, consider the error produced. What does it mean. What value has been returned from the function, and how would you modify the function in order for it to work?"
      ]
    },
    {
      "cell_type": "code",
      "execution_count": null,
      "metadata": {
        "id": "y-CrtrCFZXQX"
      },
      "outputs": [],
      "source": [
        "def my_polynomial(x):\n",
        "    \"\"\"Return the number x^2 + 30x + 225.\"\"\"\n",
        "    #print(x**2 + 30*x + 225)\n",
        "    return x**2 + 30*x + 225\n",
        "\n",
        "polyval = my_polynomial(100)"
      ]
    },
    {
      "cell_type": "code",
      "source": [
        "polyval.__class__ # now its an integer and not None"
      ],
      "metadata": {
        "colab": {
          "base_uri": "https://localhost:8080/"
        },
        "id": "uBlRqNxeu2eH",
        "outputId": "c4d6fcd2-1cf2-422c-eaf6-890804e5e9d3"
      },
      "execution_count": null,
      "outputs": [
        {
          "output_type": "execute_result",
          "data": {
            "text/plain": [
              "int"
            ]
          },
          "metadata": {},
          "execution_count": 27
        }
      ]
    },
    {
      "cell_type": "code",
      "execution_count": null,
      "metadata": {
        "id": "gVs0rvxwZXQa"
      },
      "outputs": [],
      "source": [
        "double_the_polyval = 2*my_polynomial(100)"
      ]
    },
    {
      "cell_type": "code",
      "execution_count": null,
      "metadata": {
        "id": "mTk3R-t-ZXQb"
      },
      "outputs": [],
      "source": [
        "# Write your answer as a code comment here.\n",
        "\n",
        "# the problem is thats its just printing the results and not returning anything, if we just switch the hashtags then it works as it should."
      ]
    },
    {
      "cell_type": "markdown",
      "metadata": {
        "id": "gHCO4wIwZXQc"
      },
      "source": [
        "## Script/program construction (a tiny example)"
      ]
    },
    {
      "cell_type": "markdown",
      "metadata": {
        "id": "YeQ6dlnCZXQc"
      },
      "source": [
        "Regardless of which programming language we use, we will likely construct programs or scripts that consist of several functions that work in concert. Below we will create a very simple Monte Carlo simulation as a basis for breaking down a larger (though small) problem into sensible, (re)usable discrete pieces. The resulting program will likely utilise control structures that you have read about before."
      ]
    },
    {
      "cell_type": "markdown",
      "metadata": {
        "id": "phxDTl0TZXQd"
      },
      "source": [
        "**Hint: read all of the subtasks related to this task before coding.**"
      ]
    },
    {
      "cell_type": "markdown",
      "metadata": {
        "id": "UbCaiBVlZXQd"
      },
      "source": [
        "a) The following is a well-known procedure for approximating $\\pi$: pick $n$ uniformly randomly selected coordinates in an $2R\\times 2R$ square. Count the number of the points that fall within the circle of radius $R$ with its center at $(R,R)$. The fraction of these points to the total number of points is used to approximate $\\pi$ (exactly how is for you to figure out). (Note that this is not to be confused with MCMC.)\n",
        "\n",
        "Write a program consisting of **several (aptly selected and named) functions**, that present the user with the following simple text user interface. The <span style=\"background: yellow;\">yellow</span> text is an example of user input (the user is prompted, and enters the value). It then prints the results of the simulations:"
      ]
    },
    {
      "cell_type": "markdown",
      "metadata": {
        "id": "cbQKeEM0ZXQd"
      },
      "source": [
        "`pi_simulation()`\n",
        "\n",
        "<p style=\"font-family: console, monospace\">Welcome to the Monty Carlo PI program!</p>\n",
        "\n",
        "<p style=\"font-family: console, monospace\">\n",
        "Please enter a number of points (or the letter \"q\" to quit): <span style=\"background: yellow;\">100</span><br/>\n",
        "Using 100 points we (this time) got the following value for pi: 3.08<br/>\n",
        "This would mean that tau (2xPI) would be: 6.16\n",
        "</p>\n",
        "\n",
        "<p style=\"font-family: console, monospace\">\n",
        "Please enter a number of points (or the letter \"q\" to quit): <span style=\"background: yellow;\">100</span><br/>\n",
        "Using 100 points we (this time) got the following value for pi: 3.12<br/>\n",
        "This would mean that tau (2xPI) would be: 6.24\n",
        "</p>\n",
        "\n",
        "<p style=\"font-family: console, monospace\">\n",
        "Please enter a number of points (or the letter \"q\" to quit): <span style=\"background: yellow;\">q</span>\n",
        "</p>\n",
        "\n",
        "<p style=\"font-family: console, monospace\">\n",
        "Thank you for choosing Monty Carlo.\n",
        "</p>"
      ]
    },
    {
      "cell_type": "markdown",
      "metadata": {
        "id": "_9GDnrleZXQe"
      },
      "source": [
        "[**Note**: This is a task largely about program structure. Unless there are substantial performance drawbacks, prefer readability over optimisation.]"
      ]
    },
    {
      "cell_type": "markdown",
      "metadata": {
        "id": "gsE9UTXkZXQe"
      },
      "source": [
        "---\n",
        "**REMEMBER: YOU DO NOT WRITE CODE FOR THE INTERPRETER. YOU WRITE IT FOR OTHER HUMAN READERS.**\n",
        "\n",
        "---\n",
        "\n",
        "An important part of programming is to allow a reader who is perhaps unfamiliar with the code to be able to understand it, and convince themselves that it is correct with respect to specification. There should also be as few surprises as possible."
      ]
    },
    {
      "cell_type": "code",
      "execution_count": null,
      "metadata": {
        "id": "8Bs-M6pZZXQe"
      },
      "outputs": [],
      "source": [
        "from inspect import ArgSpec\n",
        "import random # importing random to simulate points\n",
        "\n",
        "# function to generate points\n",
        "def random_points(R):\n",
        "  x = random.uniform(0, 2* R) # randomly drawing points from the uniform ditrubution to location x\n",
        "  y = random.uniform(0, 2* R) # randomly drawing points from the uniform ditrubution to location y\n",
        "\n",
        "  return x, y\n",
        "\n",
        "# Function to check if the points are inside the circle\n",
        "def inside_circle(x,y,R):\n",
        "  if (x - R)**2 + (y - R)**2 <= R **2: # if  x or y coordinates are in the circle\n",
        "    return 1\n",
        "  else:\n",
        "    return 0\n",
        "\n",
        "# function to approximate pi\n",
        "def approximate_pi(nr_points):\n",
        "  R = 1 # setting a Radius to 1 inside and not as an argument\n",
        "  points_inside = 0 # starting value\n",
        "\n",
        "  for i in range(nr_points): # Generating points through the loop\n",
        "    x,y = random_points(R)\n",
        "    points_inside += inside_circle(x,y,R) # hecking if its inside and adding it to the total\n",
        "\n",
        "  return points_inside/nr_points\n",
        "\n",
        "# the main function with the input from the user\n",
        "def pi_simulation(*args):\n",
        "  if len(args) > 0: # in case you want to skip the user input on nr_points\n",
        "    nr_points = int(float(args[0]))\n",
        "    inputcheck = True\n",
        "  else:\n",
        "    inputcheck = False\n",
        "\n",
        "  while inputcheck == False: # creating a loop to get a correct input\n",
        "    nr_points = input('Please enter a number of points (or the letter \"q\" to quit):')\n",
        "\n",
        "    if nr_points == 'q' or nr_points == 'Q': # checking if its q\n",
        "      print('Thank you for choosing Monty Carlo.') # returning message\n",
        "      break\n",
        "    try: # using try to make the input to integer\n",
        "      nr_points = int(float(nr_points))\n",
        "      if nr_points <= 0: # checking if its positive\n",
        "        print('Choose a positive integer')\n",
        "      else:\n",
        "       inputcheck = True # stopping the loop\n",
        "    except: print('Please write the number or q correctly')\n",
        "\n",
        "  pii = 4*approximate_pi(nr_points) # approxing pi\n",
        "\n",
        "  # printing the last print\n",
        "  print(f'Using {nr_points} points we (this time) got the following value for pi: {pii} \\n This would mean that tau (2xPI) would be: {2*pii}')\n",
        "  return pii\n",
        "\n",
        "\n"
      ]
    },
    {
      "cell_type": "code",
      "source": [
        "pi_simulation() # trying it on 100 points"
      ],
      "metadata": {
        "colab": {
          "base_uri": "https://localhost:8080/"
        },
        "id": "Ne_Jgl5KzRQw",
        "outputId": "6596f56d-e1b9-40ca-f82f-f2bdace296bd"
      },
      "execution_count": null,
      "outputs": [
        {
          "output_type": "stream",
          "name": "stdout",
          "text": [
            "Please enter a number of points (or the letter \"q\" to quit):100\n",
            "Using 100 points we (this time) got the following value for pi: 3.04 \n",
            " This would mean that tau (2xPI) would be: 6.08\n"
          ]
        },
        {
          "output_type": "execute_result",
          "data": {
            "text/plain": [
              "3.04"
            ]
          },
          "metadata": {},
          "execution_count": 78
        }
      ]
    },
    {
      "cell_type": "markdown",
      "metadata": {
        "id": "mpdpVt3SZXQf"
      },
      "source": [
        "[Hint: You might want to consider the function `input`. Try it out and see what type of value it returns.]"
      ]
    },
    {
      "cell_type": "markdown",
      "metadata": {
        "id": "93PJqtykZXQf"
      },
      "source": [
        "b) One feature of Python's simplicity is the possibility to (comparatively) quickly produce code to try out our intuitions. Let's say we want to compare how well our approximation performs, as compared to some gold standard for pi (here: the version in the standard library). Run 100 simulations. How large is the maximum relative error (using the definition above) in this particular run of simulations, if each simulation has $n=10^4$ points? Is it larger or smaller than 5%? Write code that returns this maximum relative error."
      ]
    },
    {
      "cell_type": "code",
      "execution_count": null,
      "metadata": {
        "scrolled": true,
        "id": "Ao0H1jUUZXQg"
      },
      "outputs": [],
      "source": [
        "pi_error = []\n",
        "for i in range(100): # 100 sumulations of pi\n",
        "  pi_error.append(abs(pi_simulation(10000) - pi)/ pi) # appending the relative error in the list\n",
        "\n"
      ]
    },
    {
      "cell_type": "code",
      "source": [
        "max(pi_error) # maximal relative error"
      ],
      "metadata": {
        "colab": {
          "base_uri": "https://localhost:8080/"
        },
        "id": "GIkvU2BL8yro",
        "outputId": "c31acf7a-62da-40c3-f717-5ad58fc4bda8"
      },
      "execution_count": null,
      "outputs": [
        {
          "output_type": "execute_result",
          "data": {
            "text/plain": [
              "0.012984704921301847"
            ]
          },
          "metadata": {},
          "execution_count": 88
        }
      ]
    },
    {
      "cell_type": "markdown",
      "metadata": {
        "id": "W_o2d3rIZXRA"
      },
      "source": [
        "[Note: This is only to show a quick way of testing out your code in a readable fashion. You might want to try to write it in a pythonic way. But in terms of performance, it is very likely that the true bottleneck will still be the approximation function itself.]"
      ]
    },
    {
      "cell_type": "markdown",
      "metadata": {
        "id": "Q3Rnh3AOZXRB"
      },
      "source": [
        "## Fault/bugspotting and tests in a very simple setting"
      ]
    },
    {
      "cell_type": "markdown",
      "metadata": {
        "id": "fkcTWH3xZXRC"
      },
      "source": [
        "It is inevitable that we will make mistakes when programming. An important skill is not only to be able to write code in the first place, but also to be able to figure where one would start looking for faults. This also involves being able to make the expectations we have on the program more explicit, and at the very least construct some sets of automatic \"sanity checks\" for the program. The latter will likely not be something done for every piece of code you write, but it is highly useful for code that might be reused or is hard to understand (due either to programming reasons, or because the underlying mathemetics is dense). When rewriting or optimising code, having such tests are also highly useful to provide hints that the changes haven't broken the code."
      ]
    },
    {
      "cell_type": "markdown",
      "metadata": {
        "id": "Gq3Md-JWZXRC"
      },
      "source": [
        "**Task**: The following program is supposed to return the sum of the squares of numbers $0,...,n$."
      ]
    },
    {
      "cell_type": "code",
      "execution_count": null,
      "metadata": {
        "id": "kk2KN11tZXRE"
      },
      "outputs": [],
      "source": [
        "# Do not modify this code! You'll fix it later.\n",
        "\n",
        "def update_result(result, i):\n",
        "    result = result + i*i\n",
        "    return result\n",
        "\n",
        "def sum_squares(n):\n",
        "    \"\"\"Return the sum of squares 0^2 + 1^2 + ... + (n-1)^2 + n^2.\"\"\"\n",
        "    result = 0\n",
        "    for i in range(n):\n",
        "        result = update_result(n, result)"
      ]
    },
    {
      "cell_type": "markdown",
      "metadata": {
        "id": "LpLwfq32ZXRG"
      },
      "source": [
        "a) What mistakes have the programmer made when trying to solve the problem? Name the mistakes in coding or thinking about the issue that you notice (regardless of if they affect the end result). In particular, write down what is wrong (not just \"line X should read ...\"; fixing the code comes later). Feel free to make a copy of the code (pressing `b` in a notebook creates a new cell below) and try it out, add relevant print statements, assertions or anything else that might help. Note down how you spotted the faults."
      ]
    },
    {
      "cell_type": "code",
      "execution_count": null,
      "metadata": {
        "id": "YzxR_PWnZXRH"
      },
      "outputs": [],
      "source": [
        "\"\"\"\n",
        "There is no input check in that n is a positive integer which i think should be done\n",
        "\n",
        "the loop is from 0 to n-1 not to n\n",
        "\n",
        "In the last line there is a mixup with using n instead of i and the placement of the\n",
        "arguments in update_result should be the other way around.\n",
        "\n",
        "The sum of squares function dosent return anything\n",
        "\n",
        "And last we might want to switch the name of i on both functions to something more understandable like\n",
        "\"value\".\n",
        "\n",
        "\"\"\""
      ]
    },
    {
      "cell_type": "markdown",
      "metadata": {
        "id": "8zrI_QePZXRI"
      },
      "source": [
        "b) Write a few simple assertions that should pass if the code was correct. Don't forget to include the *why* of the test, preferably in the error message provided in the `AssertionError` if the test fails."
      ]
    },
    {
      "cell_type": "code",
      "execution_count": null,
      "metadata": {
        "scrolled": false,
        "id": "EqWXZuP3ZXRJ",
        "colab": {
          "base_uri": "https://localhost:8080/",
          "height": 175
        },
        "outputId": "78942cf6-71fe-427f-90db-920995e94090"
      },
      "outputs": [
        {
          "output_type": "error",
          "ename": "AssertionError",
          "evalue": "Expected sum_squares(0) to be 0",
          "traceback": [
            "\u001b[0;31m---------------------------------------------------------------------------\u001b[0m",
            "\u001b[0;31mAssertionError\u001b[0m                            Traceback (most recent call last)",
            "\u001b[0;32m<ipython-input-95-a33a4b8d0d79>\u001b[0m in \u001b[0;36m<cell line: 1>\u001b[0;34m()\u001b[0m\n\u001b[0;32m----> 1\u001b[0;31m \u001b[0;32massert\u001b[0m \u001b[0msum_squares\u001b[0m\u001b[0;34m(\u001b[0m\u001b[0;36m0\u001b[0m\u001b[0;34m)\u001b[0m \u001b[0;34m==\u001b[0m \u001b[0;36m0\u001b[0m\u001b[0;34m,\u001b[0m \u001b[0;34m\"Expected sum_squares(0) to be 0\"\u001b[0m\u001b[0;34m\u001b[0m\u001b[0;34m\u001b[0m\u001b[0m\n\u001b[0m",
            "\u001b[0;31mAssertionError\u001b[0m: Expected sum_squares(0) to be 0"
          ]
        }
      ],
      "source": [
        "assert sum_squares(0) == 0, \"Expected sum_squares(0) to be 0\"\n"
      ]
    },
    {
      "cell_type": "code",
      "source": [
        "assert sum_squares(1) == 1, \"Expected sum_squares(1) to be 1\""
      ],
      "metadata": {
        "colab": {
          "base_uri": "https://localhost:8080/",
          "height": 175
        },
        "id": "sFseYRZuDZVf",
        "outputId": "c9fc51d1-7101-45d5-d4ac-c770078569e9"
      },
      "execution_count": null,
      "outputs": [
        {
          "output_type": "error",
          "ename": "AssertionError",
          "evalue": "Expected sum_squares(1) to be 1",
          "traceback": [
            "\u001b[0;31m---------------------------------------------------------------------------\u001b[0m",
            "\u001b[0;31mAssertionError\u001b[0m                            Traceback (most recent call last)",
            "\u001b[0;32m<ipython-input-96-7af72aee6236>\u001b[0m in \u001b[0;36m<cell line: 1>\u001b[0;34m()\u001b[0m\n\u001b[0;32m----> 1\u001b[0;31m \u001b[0;32massert\u001b[0m \u001b[0msum_squares\u001b[0m\u001b[0;34m(\u001b[0m\u001b[0;36m1\u001b[0m\u001b[0;34m)\u001b[0m \u001b[0;34m==\u001b[0m \u001b[0;36m1\u001b[0m\u001b[0;34m,\u001b[0m \u001b[0;34m\"Expected sum_squares(1) to be 1\"\u001b[0m\u001b[0;34m\u001b[0m\u001b[0;34m\u001b[0m\u001b[0m\n\u001b[0m",
            "\u001b[0;31mAssertionError\u001b[0m: Expected sum_squares(1) to be 1"
          ]
        }
      ]
    },
    {
      "cell_type": "markdown",
      "metadata": {
        "id": "PnVzTyJqZXRJ"
      },
      "source": [
        "Hint: might there be any corner/edge cases here?"
      ]
    },
    {
      "cell_type": "markdown",
      "metadata": {
        "id": "T-dE5ZYLZXRK"
      },
      "source": [
        "c) Write a correct version of the code, which conforms to the specification."
      ]
    },
    {
      "cell_type": "code",
      "execution_count": null,
      "metadata": {
        "id": "3P0AB_qlZXRK"
      },
      "outputs": [],
      "source": [
        "def update_result(result, value):\n",
        "    result = result + value*value # chagned i to value\n",
        "    return result\n",
        "\n",
        "def sum_squares(n):\n",
        "    \"\"\"Return the sum of squares 0^2 + 1^2 + ... + (n-1)^2 + n^2.\"\"\"\n",
        "    result = 0\n",
        "    for value in range(n+1): # added +1 to loop from 0 .. to n\n",
        "        result = update_result(result,value) # changed i to value and the order here\n",
        "    return result # returning result"
      ]
    },
    {
      "cell_type": "code",
      "source": [
        "assert sum_squares(1) == 1, \"Expected sum_squares(1) to be 1\"\n",
        "assert sum_squares(0) == 0, \"Expected sum_squares(0) to be 0\"\n"
      ],
      "metadata": {
        "id": "Bb6GeBF5EYug"
      },
      "execution_count": null,
      "outputs": []
    },
    {
      "cell_type": "markdown",
      "metadata": {
        "id": "DL6ULqx2ZXRK"
      },
      "source": [
        "[Note: This is a rather primitive testing strategy, but it is sometimes enough. If we wanted to provide more advanced testing facilities, we might eg use a proper unit test framework, or use tools to do property based testing. This, as well as formal verification, is outside the scope of this course. The interested reader is referred to [pytest](https://docs.pytest.org/en/latest/) or the built-in [unittest](https://docs.python.org/3/library/unittest.html).\n",
        "\n",
        "Those interested in testing might want to consult the web page for the IDA course [TDDD04 Software testing](https://www.ida.liu.se/~TDDD04/) or the somewhat abbreviation-heavy book by [Ammann & Offutt](https://cs.gmu.edu/~offutt/softwaretest/), which apparently also features video lectures.]"
      ]
    },
    {
      "cell_type": "markdown",
      "metadata": {
        "id": "46fdCX_rZXRK"
      },
      "source": [
        "## Polymorphic behaviour (via duck typing)"
      ]
    },
    {
      "cell_type": "markdown",
      "metadata": {
        "id": "-xldX0kSZXRL"
      },
      "source": [
        "In Python we often write functions that can handle several different types of data. A common pattern is writing code which is expected to work with several types of collections of data, for instance. This expectation is however in the mind of the programmer (at least without type annotations), and not something that the interpreter will enforce until runtime. This provides a lot of flexibility, but also requires us to understand what our code means for the different kinds of input. Below we try this out, and in particular return to previously known control structures."
      ]
    },
    {
      "cell_type": "markdown",
      "metadata": {
        "id": "cs04ytOSZXRM"
      },
      "source": [
        "a) Write a function `last_idx` that takes two arguments `seq` and `elem` and returns the index of the last occurrence of the element `elem` in the iterable `seq`. If the sequence doesn't contain the element, return -1. (You may not use built-ins like .find() here.)"
      ]
    },
    {
      "cell_type": "code",
      "execution_count": null,
      "metadata": {
        "id": "AUVs2liTZXRN",
        "colab": {
          "base_uri": "https://localhost:8080/"
        },
        "outputId": "d7735b99-42f6-4c3e-f43e-38d4fb82c1ad"
      },
      "outputs": [
        {
          "output_type": "execute_result",
          "data": {
            "text/plain": [
              "0"
            ]
          },
          "metadata": {},
          "execution_count": 144
        }
      ],
      "source": [
        "\n",
        "# creating the function\n",
        "def last_idx(seq, elem):\n",
        "  \"Would be good to add input checks here but didnt see that as a part of the task\"\n",
        "  if elem in seq:\n",
        "    for i in range(len(seq)-1,-1, -1): # looping from the last element in seq to find the index\n",
        "      if seq[i] == elem :\n",
        "        return i # Returning the index where we found the last element\n",
        "        break\n",
        "  else:\n",
        "    return -1 # if it doesnt exist in seq\n",
        "\n",
        "# test\n",
        "seq = (1, 2, 3, 4, 3, 5, 6, 3, 7)\n",
        "last_idx(seq, 1)\n"
      ]
    },
    {
      "cell_type": "markdown",
      "metadata": {
        "id": "B6Pw3zA6ZXRN"
      },
      "source": [
        "b) What does your function require of the input? Also include if it would work with a string, a list or a dictionary. In the latter case, what would `elem` be matched against? What will`last_idx(\"cat\", \"a cat catches fish\")` yield?"
      ]
    },
    {
      "cell_type": "code",
      "execution_count": null,
      "metadata": {
        "id": "-lPPiqeTZXRN"
      },
      "outputs": [],
      "source": [
        "\"\"\"\n",
        "    The order of the input matter, last_idx(\"cat\", \"a cat catches fish\") will yield -1,\n",
        "    as the sequence 'cat' doesnt contain \"a cat catches fish\".\n",
        "\n",
        "\n",
        "\n",
        "    The input requires a sequence that is either a string, tuple or a list\n",
        "    filled with letters, values or strings. elem could be either numeric or a\n",
        "    string, it doesnt matter.\n",
        "    The sequence needs to have a length longer than 1 to work with numbers,\n",
        "    If the sequence is only 1 long string it wont be able to pick out words,\n",
        "    only letters or charachters in the string\n",
        "\n",
        "\"\"\"\n",
        "\n"
      ]
    },
    {
      "cell_type": "markdown",
      "metadata": {
        "id": "WNscrrVAZXRP"
      },
      "source": [
        "c) Add some `assert`-style tests that your code should satisfy. For each test, provide a description of what it tests, and why. That can be made as part of the assert statement itself."
      ]
    },
    {
      "cell_type": "code",
      "execution_count": null,
      "metadata": {
        "id": "YjD5KkKpZXRQ"
      },
      "outputs": [],
      "source": [
        "# Checking if a tuble with numbers and element of a number can find the correct index\n",
        "seq = (1, 2, 3, 4, 3, 5, 6, 3, 7)\n",
        "assert last_idx(seq, 3) == 7, \"Expected to be 7, as the last 3 in the tuple have index 7\"\n"
      ]
    },
    {
      "cell_type": "code",
      "source": [
        "# Checking if a list of strings and element of a string can find the correct index\n",
        "seq = ['test', 'yay', 'nay', 'snake','yay', 'snake']\n",
        "assert last_idx(seq, 'nay') == 2, \"Expected to be 2, as the only 'nah' in the tuple have index 2\"\n"
      ],
      "metadata": {
        "id": "dmYiyNcyS84U"
      },
      "execution_count": null,
      "outputs": []
    },
    {
      "cell_type": "code",
      "source": [
        "# checking if the input is a single string and element a single letter\n",
        "assert last_idx('sequence', 'e') == len('sequence') -1, \"Expected to be 7, as the last e is the last letter in the word and as index start frmo 0 we need to remove 1 from the length\""
      ],
      "metadata": {
        "id": "rhA0vrJbTjwU"
      },
      "execution_count": null,
      "outputs": []
    },
    {
      "cell_type": "markdown",
      "metadata": {
        "id": "ErkV29-CZXRR"
      },
      "source": [
        "The fact that a program doesn't crash when given a certain input doesn't necessarily ensure that the results are what  we expect. Thus we need to get a feel for how eg iteration over different types of data behaves, in order to understand how our function behaves."
      ]
    },
    {
      "cell_type": "markdown",
      "metadata": {
        "id": "8rxuFkoqZXRS"
      },
      "source": [
        "d) Can we use `last_idx` with a text file? What would the program try to match `elem` against? What would the return value signify (eg number of words from the start of the file, lines from the start of the file, bytes read...)?"
      ]
    },
    {
      "cell_type": "code",
      "execution_count": null,
      "metadata": {
        "id": "cwnt8DUHZXRS",
        "colab": {
          "base_uri": "https://localhost:8080/"
        },
        "outputId": "ec21c42f-b264-4b62-bbb8-171c0438c3a9"
      },
      "outputs": [
        {
          "output_type": "stream",
          "name": "stdout",
          "text": [
            "Drive already mounted at /gdrive; to attempt to forcibly remount, call drive.mount(\"/gdrive\", force_remount=True).\n",
            "/gdrive/MyDrive/Python\n"
          ]
        }
      ],
      "source": [
        "from google.colab import drive # importing drive to find files on google drive\n",
        "drive.mount('/gdrive')\n",
        "%cd /gdrive/MyDrive/Python"
      ]
    },
    {
      "cell_type": "code",
      "source": [
        "# reading the txt file created in lab 1\n",
        "with open('students.txt','r') as file:\n",
        "  for line in file:\n",
        "      field = line.split() # split the rows/lines\n",
        "      print(field) # printing the line\n",
        "      print(last_idx(field, '12')) # using the function\n",
        "\n",
        "\"This way makes us using the last_idx function line by line in the txt file to find it contains the number 12\"\n",
        "\n",
        "\"Checking what the function is comparing by printing the sequence for each line\"\n",
        "\n",
        "\"If i dont split the lines then we would only be able to find single letters or numbers in the string\"\n"
      ],
      "metadata": {
        "colab": {
          "base_uri": "https://localhost:8080/",
          "height": 209
        },
        "id": "lChXV3eUVGUL",
        "outputId": "b6d11782-2d4a-45df-ad42-f370df0603c9"
      },
      "execution_count": null,
      "outputs": [
        {
          "output_type": "stream",
          "name": "stdout",
          "text": [
            "['Student', 'Amadeus', 'scored', '8', 'on', 'the', 'Algebra', 'exam', 'and', '13', 'on', 'the', 'History', 'exam']\n",
            "-1\n",
            "['Student', 'Rosa', 'scored', '19', 'on', 'the', 'Algebra', 'exam', 'and', '22', 'on', 'the', 'History', 'exam']\n",
            "-1\n",
            "['Student', 'Mona', 'scored', '6', 'on', 'the', 'Algebra', 'exam', 'and', '27', 'on', 'the', 'History', 'exam']\n",
            "-1\n",
            "['Student', 'Ludwig', 'scored', '12', 'on', 'the', 'Algebra', 'exam', 'and', '18', 'on', 'the', 'History', 'exam']\n",
            "3\n",
            "['Student', 'Karl', 'scored', '14', 'on', 'the', 'Algebra', 'exam', 'and', '10', 'on', 'the', 'History', 'exam']\n",
            "-1\n"
          ]
        },
        {
          "output_type": "execute_result",
          "data": {
            "text/plain": [
              "'If i dont split the lines then we would only be able to find single letters or numbers in the string'"
            ],
            "application/vnd.google.colaboratory.intrinsic+json": {
              "type": "string"
            }
          },
          "metadata": {},
          "execution_count": 182
        }
      ]
    },
    {
      "cell_type": "code",
      "source": [
        "\"Example without the split and were now looking for ones in each line\"\n",
        "\n",
        "# reading the txt file created in lab 1\n",
        "with open('students.txt','r') as file:\n",
        "  for line in file:\n",
        "      print(line) # printing the line\n",
        "      print(line(field, '1')) # using the function\n"
      ],
      "metadata": {
        "id": "vw_wfHSiZVrP"
      },
      "execution_count": null,
      "outputs": []
    },
    {
      "cell_type": "markdown",
      "metadata": {
        "id": "Qw3Ix4EPZXRT"
      },
      "source": [
        "[Hint: Try it out! Open a file like in lab 1, using a `with` statement, and pass the file handle to the function. What is the easiest way for you to check what the function is comparing?]"
      ]
    },
    {
      "cell_type": "markdown",
      "metadata": {
        "id": "epdxD6bQZXRU"
      },
      "source": [
        "### Attribution\n",
        "\n",
        "Lab created by Anders Märak Leffler (2019), using some material by Johan Falkenjack. Feel free to reuse the material, but do so with attribution. License [CC-BY-SA 4.0](https://creativecommons.org/licenses/by-sa/4.0/)."
      ]
    }
  ],
  "metadata": {
    "kernelspec": {
      "display_name": "Python 3 (ipykernel)",
      "language": "python",
      "name": "python3"
    },
    "language_info": {
      "codemirror_mode": {
        "name": "ipython",
        "version": 3
      },
      "file_extension": ".py",
      "mimetype": "text/x-python",
      "name": "python",
      "nbconvert_exporter": "python",
      "pygments_lexer": "ipython3",
      "version": "3.11.0"
    },
    "colab": {
      "provenance": []
    }
  },
  "nbformat": 4,
  "nbformat_minor": 0
}