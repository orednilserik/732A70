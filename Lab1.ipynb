{
  "cells": [
    {
      "cell_type": "markdown",
      "metadata": {
        "id": "nliMkaxad9hc"
      },
      "source": [
        "# Lab 1: Python basics"
      ]
    },
    {
      "cell_type": "markdown",
      "metadata": {
        "id": "rzGDoxq0d9hf"
      },
      "source": [
        "__Student I:__ johed883 (Johannes Hedström)\n",
        "\n",
        "__Student II:__ mikmo937 (Mikael Montén)"
      ]
    },
    {
      "cell_type": "markdown",
      "metadata": {
        "id": "8FNoMu-Rd9hg"
      },
      "source": [
        "### A word of caution\n",
        "\n",
        "There are currently two versions of Python in common use, Python 2 and Python 3, which are not 100% compatible. Python 2 is slowly being phased out but has a large enough install base to still be relevant. This course uses the more modern Python 3 but while searching for help online it is not uncommon to find help for Python 2. Especially older posts on sources such as Stack Exchange might refer to Python 2 as simply \"Python\". This should not cause any serious problems but keep it in mind whenever googling. With regards to this lab, the largest differences are how `print` works and the best practice recommendations for string formatting."
      ]
    },
    {
      "cell_type": "markdown",
      "metadata": {
        "id": "8GOUEJfsd9hh"
      },
      "source": [
        "### References to R\n",
        "\n",
        "Most students taking this course who are not already familiar with Python will probably have some experience of the R programming language. For this reason, there will be intermittent references to R throughout this lab. For those of you with a background in R (or MATLAB/Octave, or Julia) the most important thing to remember is that indexing starts at 0, not at 1."
      ]
    },
    {
      "cell_type": "markdown",
      "metadata": {
        "id": "3SqnMywqd9hh"
      },
      "source": [
        "### Recommended Reading\n",
        "\n",
        "This course is not built on any specific source and no specific litterature is required. However, for those who prefer to have a printed reference book, we recommended the books by Mark Lutz:\n",
        "\n",
        "* Learning Python by Mark Lutz, 5th edition, O'Reilly. Recommended for those who have no experience of Python. This book is called LP in the text below.\n",
        "\n",
        "* Programming Python by Mark Lutz, 4th edition, O'Reilly. Recommended for those who have some experience with Python, it generally covers more advanced topics than what is included in this course but gives you a chance to dig a bit deeper if you're already comfortable with the basics. This book is called PP in the text.\n",
        "\n",
        "For the student interested in Python as a language, it is worth mentioning\n",
        "* Fluent Python by Luciano Ramalho (also O'Reilly). Note that it is - at the time of writing - still in its first edition, from 2015. Thus newer features will be missing."
      ]
    },
    {
      "cell_type": "markdown",
      "metadata": {
        "id": "gcGbLSyMd9hi"
      },
      "source": [
        "### A note about notebooks\n",
        "\n",
        "When using this notebook, you can enter python code in the empty cells, then press ctrl-enter. The code in the cell is executed and if any output occurs it will be displayed below the square. Code executed in this manner will use the same environment regardless of where in the notebook document it is placed. This means that variables and functions assigned values in one cell will thereafter be accessible from all other cells in your notebook session.\n",
        "\n",
        "Note that the programming environments described in section 1 of LP is not applicable when you run python in this notebook."
      ]
    },
    {
      "cell_type": "markdown",
      "metadata": {
        "id": "WXyQrbdHd9hi"
      },
      "source": [
        "### A note about the structure of this lab\n",
        "\n",
        "This lab will contain tasks of varying difficulty. There might be cases when the solution seems too simple to be true (in retrospect), and cases where you have seen similar material elsewhere in the course. Don't be fooled by this. In many cases, the task might just serve to remind us of things that are worthwhile to check out, or to find out how to use a specific method.\n",
        "\n",
        "We will be returning to, and using, several of the concepts in this lab."
      ]
    },
    {
      "cell_type": "markdown",
      "metadata": {
        "id": "NGZqhIt1d9hj"
      },
      "source": [
        "### 1. Strings and string handling\n",
        "\n",
        "The primary datatype for storing raw text in Python is the string. Note that there is no character datatype, only strings of length 1. This can be compared to how there are no atomic numbers in R, only vectors of length 1. A reference to the string datatype can be found __[here](https://docs.python.org/3/library/stdtypes.html#text-sequence-type-str)__.\n",
        "\n",
        "[Litterature: LP: Part II, especially Chapter 4, 7.]"
      ]
    },
    {
      "cell_type": "markdown",
      "metadata": {
        "id": "wCS7Ltf8d9hj"
      },
      "source": [
        "a) Define the variable `parrot` as the string containing the sentence _It is dead, that is what is wrong with it. This is an ex-\"Parrot\"!_.\n",
        "\n",
        "[Note: If you have been programming in a language such as C or Java, you might be a bit confused about the term \"define\". Different languages use different terms when creating variables, such as \"define\", \"declare\", \"initialize\", etc. with slightly different meanings. In statically typed languages such as C or Java, declaring a variable creates a name connected to a container which can contain data of a specific type, but does not put a value in that container. Initialization is then the act of putting an initial value in such a container. Defining a variable is often used as a synonym to declaring a variable in statically typed languages but as Python is dynamically typed, i.e. variables can contain values of any type, there is no need to declare variables before initializing them. Thus, defining a variable in python entails simply assigning a value to a new name, at which point the variable is both declared and initialized. This works exactly as in R.]"
      ]
    },
    {
      "cell_type": "code",
      "execution_count": null,
      "metadata": {
        "id": "DnxrWcdrd9hk"
      },
      "outputs": [],
      "source": [
        "parrot = 'It is dead, that is what is wrong with it. This is an ex-\"Parrot\"!.' # creating the 'parroti-string"
      ]
    },
    {
      "cell_type": "markdown",
      "metadata": {
        "id": "M-XQlOdzd9hl"
      },
      "source": [
        "b) What methods does the string now called `parrot` (or indeed any string) seem to support? Write Python commands below to find out."
      ]
    },
    {
      "cell_type": "code",
      "execution_count": null,
      "metadata": {
        "colab": {
          "base_uri": "https://localhost:8080/"
        },
        "id": "dWVW_qRod9hl",
        "outputId": "c8b00a98-f1aa-4a94-8690-06c203ae2ce9"
      },
      "outputs": [
        {
          "data": {
            "text/plain": [
              "['__add__',\n",
              " '__class__',\n",
              " '__contains__',\n",
              " '__delattr__',\n",
              " '__dir__',\n",
              " '__doc__',\n",
              " '__eq__',\n",
              " '__format__',\n",
              " '__ge__',\n",
              " '__getattribute__',\n",
              " '__getitem__',\n",
              " '__getnewargs__',\n",
              " '__gt__',\n",
              " '__hash__',\n",
              " '__init__',\n",
              " '__init_subclass__',\n",
              " '__iter__',\n",
              " '__le__',\n",
              " '__len__',\n",
              " '__lt__',\n",
              " '__mod__',\n",
              " '__mul__',\n",
              " '__ne__',\n",
              " '__new__',\n",
              " '__reduce__',\n",
              " '__reduce_ex__',\n",
              " '__repr__',\n",
              " '__rmod__',\n",
              " '__rmul__',\n",
              " '__setattr__',\n",
              " '__sizeof__',\n",
              " '__str__',\n",
              " '__subclasshook__',\n",
              " 'capitalize',\n",
              " 'casefold',\n",
              " 'center',\n",
              " 'count',\n",
              " 'encode',\n",
              " 'endswith',\n",
              " 'expandtabs',\n",
              " 'find',\n",
              " 'format',\n",
              " 'format_map',\n",
              " 'index',\n",
              " 'isalnum',\n",
              " 'isalpha',\n",
              " 'isascii',\n",
              " 'isdecimal',\n",
              " 'isdigit',\n",
              " 'isidentifier',\n",
              " 'islower',\n",
              " 'isnumeric',\n",
              " 'isprintable',\n",
              " 'isspace',\n",
              " 'istitle',\n",
              " 'isupper',\n",
              " 'join',\n",
              " 'ljust',\n",
              " 'lower',\n",
              " 'lstrip',\n",
              " 'maketrans',\n",
              " 'partition',\n",
              " 'removeprefix',\n",
              " 'removesuffix',\n",
              " 'replace',\n",
              " 'rfind',\n",
              " 'rindex',\n",
              " 'rjust',\n",
              " 'rpartition',\n",
              " 'rsplit',\n",
              " 'rstrip',\n",
              " 'split',\n",
              " 'splitlines',\n",
              " 'startswith',\n",
              " 'strip',\n",
              " 'swapcase',\n",
              " 'title',\n",
              " 'translate',\n",
              " 'upper',\n",
              " 'zfill']"
            ]
          },
          "execution_count": 2,
          "metadata": {},
          "output_type": "execute_result"
        }
      ],
      "source": [
        "# using the dir function to get information on methods\n",
        "dir(parrot)"
      ]
    },
    {
      "cell_type": "markdown",
      "metadata": {
        "id": "1tI6zwb5d9hl"
      },
      "source": [
        "c) Count the number of characters (letters, blank space, commas, periods\n",
        "etc) in the sentence."
      ]
    },
    {
      "cell_type": "code",
      "execution_count": null,
      "metadata": {
        "colab": {
          "base_uri": "https://localhost:8080/"
        },
        "id": "gnUF9W4kd9hl",
        "outputId": "9db9ba31-2fcb-49e7-9398-817f58a755a8"
      },
      "outputs": [
        {
          "data": {
            "text/plain": [
              "67"
            ]
          },
          "execution_count": 3,
          "metadata": {},
          "output_type": "execute_result"
        }
      ],
      "source": [
        "len(parrot) # length of the string = number of characters"
      ]
    },
    {
      "cell_type": "markdown",
      "metadata": {
        "id": "eaDUfOCZd9hm"
      },
      "source": [
        "d) If we type `parrot + parrot`, should it change the string itself, or merely produce a new string? How would you test your intuition? Write expressions below."
      ]
    },
    {
      "cell_type": "code",
      "execution_count": null,
      "metadata": {
        "colab": {
          "base_uri": "https://localhost:8080/"
        },
        "id": "Io1qHq6nd9hm",
        "outputId": "4b0db97a-ec98-4f95-b863-5bee727e7108"
      },
      "outputs": [
        {
          "data": {
            "text/plain": [
              "False"
            ]
          },
          "execution_count": 4,
          "metadata": {},
          "output_type": "execute_result"
        }
      ],
      "source": [
        "twoparrots = parrot + parrot # first expression\n",
        "\n",
        "parrot == twoparrots # to see if its changed(it should return false as we havent changed parrot)"
      ]
    },
    {
      "cell_type": "markdown",
      "metadata": {
        "id": "gHUC6XSfd9hm"
      },
      "source": [
        "e) Separate the sentence into a list of words (possibly including separators) using a built-in method. Call the list `parrot_words`."
      ]
    },
    {
      "cell_type": "code",
      "execution_count": null,
      "metadata": {
        "colab": {
          "base_uri": "https://localhost:8080/"
        },
        "id": "bNX9XtQMd9hm",
        "outputId": "6bc93ba9-168d-47c4-8715-b70c508f4fc0"
      },
      "outputs": [
        {
          "data": {
            "text/plain": [
              "['It',\n",
              " 'is',\n",
              " 'dead,',\n",
              " 'that',\n",
              " 'is',\n",
              " 'what',\n",
              " 'is',\n",
              " 'wrong',\n",
              " 'with',\n",
              " 'it.',\n",
              " 'This',\n",
              " 'is',\n",
              " 'an',\n",
              " 'ex-\"Parrot\"!.']"
            ]
          },
          "execution_count": 6,
          "metadata": {},
          "output_type": "execute_result"
        }
      ],
      "source": [
        "parrot_words = parrot.split() # using the split function to separate the sentence\n",
        "parrot_words"
      ]
    },
    {
      "cell_type": "markdown",
      "metadata": {
        "id": "F_cbvkH7d9hm"
      },
      "source": [
        "f) Merge (concatenate) `parrot_words` into a string again."
      ]
    },
    {
      "cell_type": "code",
      "execution_count": null,
      "metadata": {
        "colab": {
          "base_uri": "https://localhost:8080/",
          "height": 35
        },
        "id": "K27k7tmbd9hn",
        "outputId": "3325cea2-fd04-4871-9207-ff01cef204a1"
      },
      "outputs": [
        {
          "data": {
            "text/plain": [
              "'It is dead, that is what is wrong with it. This is an ex-\"Parrot\"!.'"
            ]
          },
          "execution_count": 7,
          "metadata": {},
          "output_type": "execute_result"
        }
      ],
      "source": [
        "parrot_words=' '.join(parrot_words) # Joining them together with a space between them ' '\n",
        "\n",
        "parrot_words"
      ]
    },
    {
      "cell_type": "markdown",
      "metadata": {
        "id": "0EqbjCLdd9hn"
      },
      "source": [
        "g) Create a string `parrot_info` which consists of \"The length of parrot_info is 66.\" (the length of the string should be calculated automatically, and you may not write any numbers in the string). Use f-string syntax!"
      ]
    },
    {
      "cell_type": "code",
      "execution_count": null,
      "metadata": {
        "colab": {
          "base_uri": "https://localhost:8080/"
        },
        "id": "pRiIBNpbd9hn",
        "outputId": "505410dd-036f-4bd2-e1b6-d8ff9c108ec2"
      },
      "outputs": [
        {
          "name": "stdout",
          "output_type": "stream",
          "text": [
            "The length of parrot_info is 28\n"
          ]
        }
      ],
      "source": [
        "parrot_info = 'The length of parrot_info is'\n",
        "print(f'{parrot_info} {len(parrot_info)}') # using f string and len to print and calculate the numbers"
      ]
    },
    {
      "cell_type": "markdown",
      "metadata": {
        "id": "pJ9ccvFCd9ho"
      },
      "source": [
        "### 2. Iteration, sequences and string formatting\n",
        "\n",
        "Loops are not as painfully slow in Python as they are in R and thus, not as critical to avoid. However, for many use cases, _comprehensions_, like _list comprehensions_ or _dict comprehensions_ are faster. In this assignment we will see both traditional loop constructs and comprehensions. For an introduction to comprehensions, __[this](https://python-3-patterns-idioms-test.readthedocs.io/en/latest/Comprehensions.html)__ might be a good place to start.\n",
        "\n",
        "It should also be noted that what Python calls lists are unnamed sequences. As in R, a Python list can contain elements of many types, however, these can only be accessed by indexing or sequence, not by name as in R."
      ]
    },
    {
      "cell_type": "markdown",
      "metadata": {
        "id": "zQSq7DPad9ho"
      },
      "source": [
        "a) Write a `for`-loop that produces the following output on the screen:<br>\n",
        "> `The next number in the loop is 5`<br>\n",
        "> `The next number in the loop is 6`<br>\n",
        "> ...<br>\n",
        "> `The next number in the loop is 10`<br>\n",
        "\n",
        "[Hint: the `range` function has more than one argument.]<br>\n",
        "[Literature: For the range construct see LP part II chapter 4 (p.112).]"
      ]
    },
    {
      "cell_type": "code",
      "execution_count": null,
      "metadata": {
        "colab": {
          "base_uri": "https://localhost:8080/"
        },
        "id": "Q8krUrXqd9ho",
        "outputId": "11e0b08a-a614-4454-f60d-c001bf8c3120"
      },
      "outputs": [
        {
          "name": "stdout",
          "output_type": "stream",
          "text": [
            "The next number in the loop is 5\n",
            "The next number in the loop is 6\n",
            "The next number in the loop is 7\n",
            "The next number in the loop is 8\n",
            "The next number in the loop is 9\n",
            "The next number in the loop is 10\n"
          ]
        }
      ],
      "source": [
        "for nr in range(5,11):\n",
        "  print(f'The next number in the loop is {nr}')\n",
        "\n"
      ]
    },
    {
      "cell_type": "markdown",
      "metadata": {
        "id": "4bpxFhpgd9hp"
      },
      "source": [
        "b) Write a `for`-loop that for a given`n` sets `first_n_squared` to the sum of squares of the first `n` numbers (0..n-1). Call the iteration variable `i`."
      ]
    },
    {
      "cell_type": "code",
      "execution_count": null,
      "metadata": {
        "colab": {
          "base_uri": "https://localhost:8080/"
        },
        "id": "MFqL6f2hd9hp",
        "outputId": "6513259b-e5bd-459f-ddbd-c21feb076fdd"
      },
      "outputs": [
        {
          "data": {
            "text/plain": [
              "55"
            ]
          },
          "execution_count": 10,
          "metadata": {},
          "output_type": "execute_result"
        }
      ],
      "source": [
        "n = 6\n",
        "first_n_squared  = 0\n",
        "for i in range(0,n): # looping from 0 to n-1\n",
        "  first_n_squared  = first_n_squared  + (i**2) # summing the squares of the loop\n",
        "first_n_squared"
      ]
    },
    {
      "cell_type": "markdown",
      "metadata": {
        "id": "dMYdNupdd9hp"
      },
      "source": [
        "Hint (not mandatory): iteration is often about a gradual procedure of updating or computing. Write out, on paper, how you would compute $0^2$, $0^2 + 1^2$, $0^2 + 1^2 + 2^2$, and consider what kinds of gradual updates you might want to perform."
      ]
    },
    {
      "cell_type": "markdown",
      "metadata": {
        "id": "1Rqijn2Gd9hp"
      },
      "source": [
        "c) It is often worth considering what a piece of code actually contributes. Think about a single loop iteration (when we go through the body of the loop). What should the variable `first_n_squared` contain _before_ a loop iteration? What should the loop iteration contribute? What does it contain _after_ ? A sentence or two for each is enough. Write this as a code comment in the box below:"
      ]
    },
    {
      "cell_type": "code",
      "execution_count": null,
      "metadata": {
        "id": "raQLq0L_d9hq"
      },
      "outputs": [],
      "source": [
        "# the first_n_squared should contain a 0 so its numeric without any value that makes the sum incorrect\n",
        "\n",
        "# first_n_squared contain the sum of squared values between 0 and n-1 after the iterations and each iteration adds a squared value for the ith iteration."
      ]
    },
    {
      "cell_type": "markdown",
      "metadata": {
        "id": "NFL5mk5xd9hq"
      },
      "source": [
        "Hint:\n",
        "* Your answer might involve the iteration variable `i` (informally: the current number we're looking at in the loop).\n",
        "* After all the loop iterations are done (and your iteration variable has reached _n - 1_ ), it should contain the sum $0^2 + 1^2 + ... + (n-1)^2$. Does your explanation suggest that this should be the case?"
      ]
    },
    {
      "cell_type": "markdown",
      "metadata": {
        "id": "nS8EwBESd9hq"
      },
      "source": [
        "[Tangent: this form of reasoning can form the basis of a mathematical correctness proof for algorithms, that enables us to formally check that code does what it should. This is quite beyond the scope of this course, but the (CS-)interested reader might want to consider reading up on eg [loop invariants](https://en.wikipedia.org/wiki/Loop_invariant), We only go into it at the level of detail that actually forces us to think about what our (simple) code does.]"
      ]
    },
    {
      "cell_type": "markdown",
      "metadata": {
        "id": "076geJDZd9hr"
      },
      "source": [
        "d) Write a code snippet that counts the number of __letters__ (alphabetic characters) in `parrot` (as defined above). Use a `for` loop."
      ]
    },
    {
      "cell_type": "code",
      "execution_count": null,
      "metadata": {
        "colab": {
          "base_uri": "https://localhost:8080/"
        },
        "id": "96vEnAbHd9hr",
        "outputId": "070af9ec-09df-49df-c13b-89ce32b07ef1"
      },
      "outputs": [
        {
          "data": {
            "text/plain": [
              "47"
            ]
          },
          "execution_count": 13,
          "metadata": {},
          "output_type": "execute_result"
        }
      ],
      "source": [
        "nrletter = 0\n",
        "for p in parrot: # going through every instance in parrot\n",
        "  if p.isalpha(): # checking if its alphabetic\n",
        "    nrletter += 1 # adding 1 it it is\n",
        "\n",
        "nrletter"
      ]
    },
    {
      "cell_type": "markdown",
      "metadata": {
        "id": "shGNe0Y0d9hr"
      },
      "source": [
        "e) Explain your letter-counting code in the same terms as above (before, after, contributed)."
      ]
    },
    {
      "cell_type": "code",
      "execution_count": null,
      "metadata": {
        "id": "DVw7YHoud9hr"
      },
      "outputs": [],
      "source": [
        "# Initialize with 0\n",
        "# Looping through every instance in the sentence\n",
        "# if its alphabetic i add 1 to the nrletter, else we go to the next instance\n",
        "\n"
      ]
    },
    {
      "cell_type": "markdown",
      "metadata": {
        "id": "W5A9y8OJd9hr"
      },
      "source": [
        "f) Write a for-loop that iterates over the list `names` below and presents them on the screen in the following fashion:\n",
        "\n",
        "> `The name Tesco is nice`<br>\n",
        "> ...<br>\n",
        "> `The name Zeno is nice`<br>\n",
        "\n",
        "Use Python's string formatting capabilities (the `format` function in the string class) to solve the problem.\n",
        "\n",
        "[Warning: The best practices for how to do string formatting differs from Python 2 and 3, make sure you use the Python 3 approach.]<br>\n",
        "[Literature: String formatting is covered in LP part II chapter 7.]"
      ]
    },
    {
      "cell_type": "code",
      "execution_count": null,
      "metadata": {
        "colab": {
          "base_uri": "https://localhost:8080/"
        },
        "id": "YajwCC0Xd9hs",
        "outputId": "0c2e82e6-43a1-4ac5-ff89-6034da62673d"
      },
      "outputs": [
        {
          "name": "stdout",
          "output_type": "stream",
          "text": [
            "The name Tesco is nice\n",
            "The name Forex is nice\n",
            "The name Alonzo is nice\n",
            "The name Zeno is nice\n"
          ]
        }
      ],
      "source": [
        "names = ['Tesco', 'Forex', 'Alonzo', 'Zeno']\n",
        "\n",
        "for n in names:\n",
        "  print(f'The name {n} is nice')"
      ]
    },
    {
      "cell_type": "markdown",
      "metadata": {
        "id": "XFElA3qFd9ht"
      },
      "source": [
        "g) Write a for-loop that iterates over the list `names` and produces the list `n_letters` (`[5,5,6,4]`) with the length of each name."
      ]
    },
    {
      "cell_type": "code",
      "execution_count": null,
      "metadata": {
        "colab": {
          "base_uri": "https://localhost:8080/"
        },
        "id": "pRIY_ydFd9hu",
        "outputId": "3d8331c8-4d29-43d2-bc5c-42ba5e65cc93"
      },
      "outputs": [
        {
          "data": {
            "text/plain": [
              "[5, 5, 6, 4]"
            ]
          },
          "execution_count": 16,
          "metadata": {},
          "output_type": "execute_result"
        }
      ],
      "source": [
        "n_let = [] # creating an empty list\n",
        "for n in names:\n",
        "  n_let.append(len(n)) # adding the length of the word in the list\n",
        "\n",
        "n_let"
      ]
    },
    {
      "cell_type": "markdown",
      "metadata": {
        "id": "HMIbP0n6d9hu"
      },
      "source": [
        "h) How would you - in a Python interpreter/REPL or in this Notebook - retrieve the help for the built-in function `max`?"
      ]
    },
    {
      "cell_type": "code",
      "execution_count": null,
      "metadata": {
        "colab": {
          "base_uri": "https://localhost:8080/"
        },
        "id": "hXSOMV1Ud9hv",
        "outputId": "31940b12-6ce3-4dac-b52f-7daf31a27630"
      },
      "outputs": [
        {
          "name": "stdout",
          "output_type": "stream",
          "text": [
            "Help on built-in function max in module builtins:\n",
            "\n",
            "max(...)\n",
            "    max(iterable, *[, default=obj, key=func]) -> value\n",
            "    max(arg1, arg2, *args, *[, key=func]) -> value\n",
            "    \n",
            "    With a single iterable argument, return its biggest item. The\n",
            "    default keyword-only argument specifies an object to return if\n",
            "    the provided iterable is empty.\n",
            "    With two or more arguments, return the largest argument.\n",
            "\n"
          ]
        }
      ],
      "source": [
        "help(max) # using the help function"
      ]
    },
    {
      "cell_type": "markdown",
      "metadata": {
        "id": "JEr_Hab8d9hv"
      },
      "source": [
        "i) Show an example of how `max` can be used with an iterable of your choice."
      ]
    },
    {
      "cell_type": "code",
      "execution_count": null,
      "metadata": {
        "colab": {
          "base_uri": "https://localhost:8080/"
        },
        "id": "psF-DNJ3d9hv",
        "outputId": "186f4159-acdd-48b8-f416-7d2786f57669"
      },
      "outputs": [
        {
          "name": "stdout",
          "output_type": "stream",
          "text": [
            "57\n"
          ]
        }
      ],
      "source": [
        "m = (1,2,3,4,5,6,7,8,57)\n",
        "print(max(m))"
      ]
    },
    {
      "cell_type": "markdown",
      "metadata": {
        "collapsed": true,
        "id": "ASbTkz57d9hv"
      },
      "source": [
        "j) Use a comprehension (or generator) to calculate the sum 0^2 + ... + (n-1)^2 as above."
      ]
    },
    {
      "cell_type": "code",
      "execution_count": null,
      "metadata": {
        "colab": {
          "base_uri": "https://localhost:8080/"
        },
        "id": "RchMPhZcd9hv",
        "outputId": "c7c11771-d825-412f-8da6-8c59f4561d9f"
      },
      "outputs": [
        {
          "data": {
            "text/plain": [
              "55"
            ]
          },
          "execution_count": 19,
          "metadata": {},
          "output_type": "execute_result"
        }
      ],
      "source": [
        "n = 6\n",
        "\n",
        "sum_s = sum([i**2 for i in range(0,n)]) # summing the is in the range with comprehension\n",
        "\n",
        "sum_s # same result"
      ]
    },
    {
      "cell_type": "markdown",
      "metadata": {
        "id": "PZapVGA_d9hv"
      },
      "source": [
        "l) Use a list comprehension to produce a list `short_long` that indicates if the name (in the list `names`) has more than four letters. The answer should be `['long', 'long', 'long', 'short']`."
      ]
    },
    {
      "cell_type": "code",
      "execution_count": null,
      "metadata": {
        "colab": {
          "base_uri": "https://localhost:8080/"
        },
        "id": "G4eKlRBXd9hw",
        "outputId": "0218864b-cf64-4b53-e5ac-777fa1b087f6"
      },
      "outputs": [
        {
          "data": {
            "text/plain": [
              "['long', 'long', 'long', 'short']"
            ]
          },
          "execution_count": 20,
          "metadata": {},
          "output_type": "execute_result"
        }
      ],
      "source": [
        "short_long = ['long' if len(i) > 4 else 'short' for i in names ]\n",
        "short_long"
      ]
    },
    {
      "cell_type": "markdown",
      "metadata": {
        "id": "d5lKaTpqd9hw"
      },
      "source": [
        "m) Use a comprehension to count the number of letters in `parrot`. You may not use a `for`-loop. (The comprehension will contain the word `for`, but it isn't a `for ... in ...:`-statement.)"
      ]
    },
    {
      "cell_type": "code",
      "execution_count": null,
      "metadata": {
        "colab": {
          "base_uri": "https://localhost:8080/"
        },
        "id": "seyvzBh6d9hw",
        "outputId": "c48bf62b-ef94-46e9-8165-3b9b849d58d2"
      },
      "outputs": [
        {
          "data": {
            "text/plain": [
              "47"
            ]
          },
          "execution_count": 21,
          "metadata": {},
          "output_type": "execute_result"
        }
      ],
      "source": [
        "sum([1 if i.isalpha() else 0 for i in parrot])"
      ]
    },
    {
      "cell_type": "markdown",
      "metadata": {
        "id": "cezpjcLed9hw"
      },
      "source": [
        "[Note: this is fairly similar to the long/short task, but note how we access member functions of the values.]"
      ]
    },
    {
      "cell_type": "markdown",
      "metadata": {
        "id": "R9KBk52Ud9hw"
      },
      "source": [
        "n) Below we have the string `datadump`. Retrieve the substring string starting at character 27 (that is \"o\") and ending at character 34 (\"l\") by means of slicing."
      ]
    },
    {
      "cell_type": "code",
      "execution_count": null,
      "metadata": {
        "colab": {
          "base_uri": "https://localhost:8080/"
        },
        "id": "-P9vM7Y5d9hx",
        "outputId": "2af85353-ab39-427e-88cd-a60de8ea6f3b"
      },
      "outputs": [
        {
          "name": "stdout",
          "output_type": "stream",
          "text": [
            "old htm\n"
          ]
        }
      ],
      "source": [
        "datadump = \"The name of the game is <b>old html</b>. That is <b>so cool</b>.\"\n",
        "\n",
        "print(datadump[27:34]) # retriving it with indiciesfrom 27 to 34"
      ]
    },
    {
      "cell_type": "markdown",
      "metadata": {
        "id": "t-rZLOacd9hx"
      },
      "source": [
        "o) Write a loop that uses indices to __simultaneously__ loop over the lists `names` and `short_long` to write the following to the screen:\n",
        "\n",
        "> `The name Tesco is a long name`<br>\n",
        "> ...<br>\n",
        "> `The name Zeno is a short name`<br>"
      ]
    },
    {
      "cell_type": "code",
      "execution_count": null,
      "metadata": {
        "colab": {
          "base_uri": "https://localhost:8080/"
        },
        "id": "ViCmyQl2d9hx",
        "outputId": "b80bd828-60c6-4294-f341-60b3d5e0bade"
      },
      "outputs": [
        {
          "name": "stdout",
          "output_type": "stream",
          "text": [
            "The name Tesco is a long name\n",
            "The name Forex is a long name\n",
            "The name Alonzo is a long name\n",
            "The name Zeno is a short name\n"
          ]
        }
      ],
      "source": [
        "for i in range(4):\n",
        "  print(f'The name {names[i]} is a {short_long[i]} name') # looping over the range in the lists and indice with i\n"
      ]
    },
    {
      "cell_type": "markdown",
      "metadata": {
        "id": "_9PKk8rOd9hx"
      },
      "source": [
        "Note: this is a common programming pattern, though not particularly Pythonic in this use case. We do however need to know how to use indices in lists to work properly with Python."
      ]
    },
    {
      "cell_type": "markdown",
      "metadata": {
        "id": "AYSIiGzmd9hx"
      },
      "source": [
        "p) Do the task above once more, but this time without the use of indices."
      ]
    },
    {
      "cell_type": "markdown",
      "metadata": {
        "id": "hP4GPS1dxmhb"
      },
      "source": [
        "## Comment:\n",
        "    Using i,j as variable names is really unclear: i,j usually refer to indexes. You could have named your variables name and length for example."
      ]
    },
    {
      "cell_type": "code",
      "execution_count": null,
      "metadata": {
        "colab": {
          "base_uri": "https://localhost:8080/"
        },
        "id": "Vw_WE6wPd9hy",
        "outputId": "90099047-27ac-4e53-aa14-d2647e164804"
      },
      "outputs": [
        {
          "name": "stdout",
          "output_type": "stream",
          "text": [
            "The name Tesco is a long name\n",
            "The name Forex is a long name\n",
            "The name Alonzo is a long name\n",
            "The name Zeno is a short name\n"
          ]
        }
      ],
      "source": [
        "for name , length in zip(names, short_long):\n",
        "    print(f'The name {name} is a {length} name')"
      ]
    },
    {
      "cell_type": "markdown",
      "metadata": {
        "id": "T2Gi5ZVrd9hy"
      },
      "source": [
        "[Hint: Use the `zip` function.]<br>\n",
        "[Literature: zip usage with dictionary is found in LP part II chapter 8 and dictionary comprehensions in the same place.]"
      ]
    },
    {
      "cell_type": "markdown",
      "metadata": {
        "id": "8wDO_Sqed9hy"
      },
      "source": [
        "q) Among the built-in datatypes, it is also worth mentioning the tuple. Construct two tuples, `one` containing the number one and `two` containing the number 1 and the number 2. What happens if you add them? Name some method that a list with similar content (such as `two_list` below) would support, that `two` doesn't and explain why this makes sense."
      ]
    },
    {
      "cell_type": "markdown",
      "metadata": {
        "id": "l4KBblSjxmhb"
      },
      "source": [
        "## Comment:\n",
        "    You did not explained why it makes sense that lists support append but not tuples. Please explain."
      ]
    },
    {
      "cell_type": "code",
      "execution_count": null,
      "metadata": {
        "colab": {
          "base_uri": "https://localhost:8080/"
        },
        "id": "y6Ua4_bsd9hy",
        "outputId": "cb4f413e-f482-42f6-9c87-88254670ac0c"
      },
      "outputs": [
        {
          "name": "stdout",
          "output_type": "stream",
          "text": [
            "(1, 1, 2)\n",
            "[1, 1, 2]\n",
            "[1, 1, 2, 5]\n"
          ]
        }
      ],
      "source": [
        "one = (1,)\n",
        "two = (1,2)\n",
        "print(one + two) # when you add them they\n",
        "\n",
        "# list\n",
        "one_list = [1]\n",
        "two_list  = [1,2]\n",
        "add = one_list+two_list\n",
        "print(add)\n",
        "add.append(5) # you could use append to add values in a list but not a tuple\n",
        "print(add)\n",
        "\n",
        "\"\"\"\n",
        "Tuples are immutable which mean that they cannot be changed, while lists are\n",
        "mutable and therefore can be changed. The append method modifies the list in place so\n",
        "it doesnt create a new one and thats why it doesnt work for tuples, as they cant be changed.\n",
        "\n",
        "\"\"\""
      ]
    },
    {
      "cell_type": "markdown",
      "metadata": {
        "id": "Wh_1XfQEd9hz"
      },
      "source": [
        "### 3. Conditionals, logic and while loops"
      ]
    },
    {
      "cell_type": "markdown",
      "metadata": {
        "id": "KLGd6QXqd9hz"
      },
      "source": [
        "a) Below we have an integer called `n`. Write code that prints \"It's even!\" if it is even, and \"It's odd!\" if it's not."
      ]
    },
    {
      "cell_type": "code",
      "execution_count": null,
      "metadata": {
        "colab": {
          "base_uri": "https://localhost:8080/"
        },
        "id": "6Grqm25Qd9hz",
        "outputId": "4149958d-2950-44bf-825f-356c3a703d05"
      },
      "outputs": [
        {
          "name": "stdout",
          "output_type": "stream",
          "text": [
            "its even!\n"
          ]
        }
      ],
      "source": [
        "n = -4 # Change this to other values and run your code to test.\n",
        "\n",
        "if n % 2 == 0: # if its even print...\n",
        "  print('its even!')\n",
        "else: # if its odd print\n",
        "  print('Its odd!')\n"
      ]
    },
    {
      "cell_type": "markdown",
      "metadata": {
        "id": "9vJ_dc3Ld9hz"
      },
      "source": [
        "b) Below we have the list `options`. Write code (including an `if` statement) that ensures that the boolean variable `OPTIMIZE` is True _if and only if_ the list contains the string `--optimize` (exactly like that)."
      ]
    },
    {
      "cell_type": "code",
      "execution_count": null,
      "metadata": {
        "colab": {
          "base_uri": "https://localhost:8080/"
        },
        "id": "FRJ4OQfud9hz",
        "outputId": "2ef74045-ed31-45bc-a3f4-85248aac9470"
      },
      "outputs": [
        {
          "name": "stdout",
          "output_type": "stream",
          "text": [
            "True\n"
          ]
        }
      ],
      "source": [
        "\n",
        "OPTIMIZE = None       # Or some value which we are unsure of.\n",
        "\n",
        "options = ['--print-results', '--optimize', '-x']  # This might have been generated by a GUI or command line option\n",
        "\n",
        "if '--optimize' in options: # checking if optimize is in the list\n",
        "  OPTIMIZE = True\n",
        "else:\n",
        "  OPTIMIZE = False\n",
        "\n",
        "print(OPTIMIZE)"
      ]
    },
    {
      "cell_type": "markdown",
      "metadata": {
        "id": "q5P1jPWbd9hz"
      },
      "source": [
        "Note: It might be tempting to use a `for` loop. In this case, we will not be needing this, and you may _not_ use it. Python has some useful built-ins to test for membership.\n",
        "\n",
        "You may use an `else`-free `if` statement if you like."
      ]
    },
    {
      "cell_type": "markdown",
      "metadata": {
        "id": "vX0HnX1md9h0"
      },
      "source": [
        "c) Redo the task above, but now consider the case where the boolean `OPTIMIZE` is True _if and only if_ the `options` list contains either `--optimize` or `-o` (or both). **You may only use one if-statement**."
      ]
    },
    {
      "cell_type": "code",
      "execution_count": null,
      "metadata": {
        "colab": {
          "base_uri": "https://localhost:8080/"
        },
        "id": "Y3DuAR_Gd9h0",
        "outputId": "5935a950-6146-4eb8-96c0-c8a491ba2555"
      },
      "outputs": [
        {
          "name": "stdout",
          "output_type": "stream",
          "text": [
            "True\n"
          ]
        }
      ],
      "source": [
        "\n",
        "OPTIMIZE = None       # Or some value which we are unsure of.\n",
        "\n",
        "options = ['--print-results', '--optimized', '-o']  # This might have been generated by a GUI or command line option\n",
        "\n",
        "if '--optimize' or '-o' in options: # checking if optimize is in the list\n",
        "  OPTIMIZE = True\n",
        "else:\n",
        "  OPTIMIZE = False\n",
        "\n",
        "print(OPTIMIZE)"
      ]
    },
    {
      "cell_type": "markdown",
      "metadata": {
        "id": "U3lONSPnd9h0"
      },
      "source": [
        "[Hint: Don't forget to test your code with different versions of the options list!\n",
        "\n",
        "If you find something that seems strange, you might want to check what the value of the _condition itself_ is.]\n",
        "\n",
        "[Note: This extension of the task is included as it includes a common source of hard-to-spot bugs.]"
      ]
    },
    {
      "cell_type": "markdown",
      "metadata": {
        "id": "7La6miWhd9h0"
      },
      "source": [
        "d) Sometimes we can avoid using an `if` statement altogether. The task above is a prime example of this (and was introduced to get some practice with the `if` statement). Solve the task above in a one-liner without resorting to an `if` statement. (You may use an `if` expression, but you don't have to.)"
      ]
    },
    {
      "cell_type": "code",
      "execution_count": null,
      "metadata": {
        "colab": {
          "base_uri": "https://localhost:8080/"
        },
        "id": "8ukSSFbpd9h1",
        "outputId": "67ba15d2-9662-4fb6-f5b9-549b5bb397fd"
      },
      "outputs": [
        {
          "data": {
            "text/plain": [
              "True"
            ]
          },
          "execution_count": 31,
          "metadata": {},
          "output_type": "execute_result"
        }
      ],
      "source": [
        "OPTIMIZE = '--optimize' in options or '-o' in options # without if statement\n",
        "\n",
        "OPTIMIZE\n"
      ]
    },
    {
      "cell_type": "markdown",
      "metadata": {
        "id": "SWvv--06d9h1"
      },
      "source": [
        "[Hint: What should the value of the condition be when you enter the then-branch of the `if`? When you enter the else-branch?]"
      ]
    },
    {
      "cell_type": "markdown",
      "metadata": {
        "id": "6R13LlhGd9h1"
      },
      "source": [
        "e) Write a `while`-loop that repeatedly generates a random number from a uniform distribution over the interval [0,1], and prints the sentence 'The random number is smaller than 0.9' on the screen until the generated random number is greater than 0.9.\n",
        "\n",
        "[Hint: Python has a `random` module with basic random number generators.]<br/>\n",
        "\n",
        "[Literature: Introduction to the Random module can be found in LP part III chapter 5 (Numeric Types). Importing modules is introduced in part I chapter 3  and covered in depth in part IV.]"
      ]
    },
    {
      "cell_type": "markdown",
      "metadata": {
        "id": "DaXHjvMRxmhc"
      },
      "source": [
        "## Comment:\n",
        "    This is not correct, since when it > 0.9, the code will still print \"The random number is small than 0.9\".\n",
        "    Please change this."
      ]
    },
    {
      "cell_type": "code",
      "execution_count": 7,
      "metadata": {
        "colab": {
          "base_uri": "https://localhost:8080/"
        },
        "id": "LELwzQXhd9h1",
        "outputId": "717cc701-0440-44ff-95ca-93fe8a9b5b9e"
      },
      "outputs": [
        {
          "output_type": "stream",
          "name": "stdout",
          "text": [
            "The random number is smaller than 0.9\n",
            "The random number is smaller than 0.9\n",
            "The random number is smaller than 0.9\n",
            "The random number is smaller than 0.9\n",
            "The random number is smaller than 0.9\n",
            "The random number is smaller than 0.9\n",
            "The random number is smaller than 0.9\n"
          ]
        }
      ],
      "source": [
        "import random # importing the module\n",
        "\n",
        "it = random.uniform(0,1) # random number to hopefully start the loop\n",
        "while(it <= 0.9): # Added = so it has to be greater and not less or equal and printing the text before generating a new value from the uniform distribution.\n",
        "  print('The random number is smaller than 0.9') # printing text\n",
        "\n",
        "  it = random.uniform(0,1) # drawing a new number\n",
        "\n",
        "\n"
      ]
    },
    {
      "cell_type": "markdown",
      "metadata": {
        "id": "y8oqL3NXd9h1"
      },
      "source": [
        "### 4. Dictionaries\n",
        "\n",
        "Dictionaries are association tables, or maps, connecting a key to a value. For instance a name represented by a string as key with a number representing some attribute as a value. Dictionaries can themselves be values in other dictionaries, creating nested or hierarchical data structures. This is similar to named lists in R but keys in Python dictionaries can be more complex than just strings.\n",
        "\n",
        "[Literature: Dictionaries are found in LP section II chapter 4.]"
      ]
    },
    {
      "cell_type": "markdown",
      "metadata": {
        "id": "5nJwfmeyd9h2"
      },
      "source": [
        "a) Make a dictionary named `amadeus` containing the information that the student Amadeus is a male, scored 8 on the Algebra exam and 13 on the History exam. The dictionary should NOT include a name entry."
      ]
    },
    {
      "cell_type": "code",
      "execution_count": 1,
      "metadata": {
        "colab": {
          "base_uri": "https://localhost:8080/"
        },
        "id": "-XO5sZowd9h2",
        "outputId": "ce021f72-5a10-4711-f234-0ccb52248514"
      },
      "outputs": [
        {
          "output_type": "execute_result",
          "data": {
            "text/plain": [
              "{'Gender': 'Male', 'Algebra': 8, 'History': 13}"
            ]
          },
          "metadata": {},
          "execution_count": 1
        }
      ],
      "source": [
        "Amadeus = {'Gender':'Male', 'Algebra': 8, 'History': 13}\n",
        "\n",
        "Amadeus"
      ]
    },
    {
      "cell_type": "markdown",
      "metadata": {
        "id": "C2NOekWhd9h2"
      },
      "source": [
        "b) Make three more dictionaries, one for each of the students: Rosa, Mona and Ludwig, from the information in the following table:\n",
        "\n",
        "| Name          | Gender        | Algebra       | History |\n",
        "| :-----------: | :-----------: |:-------------:| :------:|\n",
        "| Rosa          | Female        | 19            | 22      |\n",
        "| Mona          | Female        | 6             | 27      |\n",
        "| Ludwig        | Other         | 12            | 18      |"
      ]
    },
    {
      "cell_type": "code",
      "execution_count": 2,
      "metadata": {
        "colab": {
          "base_uri": "https://localhost:8080/"
        },
        "id": "dNGF5Ue7d9h2",
        "outputId": "bd703fb3-0849-4411-b0d5-b90abb9a6834"
      },
      "outputs": [
        {
          "output_type": "stream",
          "name": "stdout",
          "text": [
            "{'Gender': 'Female', 'Algebra': 19, 'History': 22}\n",
            "{'Gender': 'Female', 'Algebra': 6, 'History': 27}\n",
            "{'Gender': 'Other', 'Algebra': 12, 'History': 18}\n"
          ]
        }
      ],
      "source": [
        "Rosa = {'Gender':'Female', 'Algebra': 19, 'History': 22}\n",
        "\n",
        "print(Rosa)\n",
        "Mona = {'Gender':'Female', 'Algebra': 6, 'History': 27}\n",
        "\n",
        "print(Mona)\n",
        "Ludwig = {'Gender':'Other', 'Algebra': 12, 'History': 18}\n",
        "print(Ludwig)"
      ]
    },
    {
      "cell_type": "markdown",
      "metadata": {
        "id": "6aoQ_O6gd9h2"
      },
      "source": [
        "c) Combine the four students in a dictionary named `students` such that a user of your dictionary can type `students['Amadeus']['History']` to retrive Amadeus score on the history test.\n",
        "\n",
        "[HINT: The values in a dictionary can be dictionaries.]"
      ]
    },
    {
      "cell_type": "code",
      "execution_count": 3,
      "metadata": {
        "colab": {
          "base_uri": "https://localhost:8080/"
        },
        "id": "_ZiQpaIbd9h2",
        "outputId": "fee49000-fcdd-49f6-8d5c-aead33dc26d6"
      },
      "outputs": [
        {
          "output_type": "execute_result",
          "data": {
            "text/plain": [
              "13"
            ]
          },
          "metadata": {},
          "execution_count": 3
        }
      ],
      "source": [
        "students = {'Amadeus':Amadeus,'Rosa':Rosa, 'Ludwig':Ludwig, 'Mona':Mona} # creating the directory\n",
        "\n",
        "\n",
        "students['Amadeus']['History']"
      ]
    },
    {
      "cell_type": "markdown",
      "metadata": {
        "id": "k0FU5sAud9h2"
      },
      "source": [
        "d) Add the new male student Karl to the dictionary `students`. Karl scored 14 on the Algebra exam and 10 on the History exam."
      ]
    },
    {
      "cell_type": "code",
      "execution_count": 4,
      "metadata": {
        "colab": {
          "base_uri": "https://localhost:8080/"
        },
        "id": "sYVBvlAOd9h3",
        "outputId": "543524de-75f4-48fd-e0ee-e96f57b80822"
      },
      "outputs": [
        {
          "output_type": "execute_result",
          "data": {
            "text/plain": [
              "{'Amadeus': {'Gender': 'Male', 'Algebra': 8, 'History': 13},\n",
              " 'Rosa': {'Gender': 'Female', 'Algebra': 19, 'History': 22},\n",
              " 'Ludwig': {'Gender': 'Other', 'Algebra': 12, 'History': 18},\n",
              " 'Mona': {'Gender': 'Female', 'Algebra': 6, 'History': 27},\n",
              " 'Karl': {'Gender': 'Male', 'Algebra': 14, 'History': 10}}"
            ]
          },
          "metadata": {},
          "execution_count": 4
        }
      ],
      "source": [
        "Karl= {'Gender':'Male', 'Algebra':14, 'History':10} # Crating karl\n",
        "students['Karl'] = Karl # adding karl\n",
        "\n",
        "students"
      ]
    },
    {
      "cell_type": "markdown",
      "metadata": {
        "id": "J3H_mLKEd9h3"
      },
      "source": [
        "e) Use a `for`-loop to print out the names and scores of all students on the screen. The output should look like something this (the order of the students doesn't matter):\n",
        "\n",
        "> `Student Amadeus scored 8 on the Algebra exam and 13 on the History exam`<br>\n",
        "> `Student Rosa scored 19 on the Algebra exam and 22 on the History exam`<br>\n",
        "> ...\n",
        "\n",
        "[Hint: Dictionaries are iterables, also, check out the `items` function for dictionaries.]"
      ]
    },
    {
      "cell_type": "markdown",
      "metadata": {
        "id": "Ih5IyOPcxmhd"
      },
      "source": [
        "## Comment:\n",
        "    Again, i and j are poorly named. You can come up with better names. Please redo."
      ]
    },
    {
      "cell_type": "code",
      "execution_count": 5,
      "metadata": {
        "colab": {
          "base_uri": "https://localhost:8080/"
        },
        "id": "-Z18aYihd9h3",
        "outputId": "11108077-378b-4edd-a54a-26c2e109e5c0"
      },
      "outputs": [
        {
          "output_type": "stream",
          "name": "stdout",
          "text": [
            "Student Amadeus scored 8 on the Algebra exam and 13 on the History exam\n",
            "Student Rosa scored 19 on the Algebra exam and 22 on the History exam\n",
            "Student Ludwig scored 12 on the Algebra exam and 18 on the History exam\n",
            "Student Mona scored 6 on the Algebra exam and 27 on the History exam\n",
            "Student Karl scored 14 on the Algebra exam and 10 on the History exam\n"
          ]
        }
      ],
      "source": [
        "# changed i and j to name and points\n",
        "for name, points in students.items() : # looping with i and j over students and printing\n",
        "  print(f'Student {name} scored {points.get(\"Algebra\",0)} on the Algebra exam and {points.get(\"History\",0)} on the History exam')\n"
      ]
    },
    {
      "cell_type": "markdown",
      "metadata": {
        "id": "d5D-j17Td9h3"
      },
      "source": [
        "f) Use a dict comprehension and the lists `names` and `short_long` from assignment 2 to create a dictionary of names and wether they are short or long. The result should be a dictionary equivalent to {'Forex':'long', 'Tesco':'long', ...}."
      ]
    },
    {
      "cell_type": "markdown",
      "metadata": {
        "id": "tjOr9Zruxmhe"
      },
      "source": [
        "## Comment:\n",
        "    Same here, please redo"
      ]
    },
    {
      "cell_type": "code",
      "execution_count": null,
      "metadata": {
        "colab": {
          "base_uri": "https://localhost:8080/"
        },
        "id": "ZTXD5rjjd9h3",
        "outputId": "430e744c-3586-4240-8bfa-9bc106593894"
      },
      "outputs": [
        {
          "data": {
            "text/plain": [
              "{'Tesco': 'long', 'Forex': 'long', 'Alonzo': 'long', 'Zeno': 'short'}"
            ]
          },
          "execution_count": 38,
          "metadata": {},
          "output_type": "execute_result"
        }
      ],
      "source": [
        "# changes i,j to name and length\n",
        "new_dict = {name : length  for name,length in zip(names,short_long )}\n",
        "new_dict\n"
      ]
    },
    {
      "cell_type": "markdown",
      "metadata": {
        "id": "3ZHqD6wNd9h3"
      },
      "source": [
        "### 5. Introductory file I/O\n",
        "\n",
        "File I/O in Python is a bit more general than what most R programmers are used to. In R, reading and writing files are usually performed using file type specific functions such as `read.csv` while in Python we usually start with reading standard text files. However, there are lots of specialized functions for different file types in Python as well, especially when using the __[pandas](http://pandas.pydata.org/)__ library which is built around a datatype similar to R DataFrames. Pandas will not be covered in this course though.\n",
        "\n",
        "[Literature: Files are introduced in LP part II chapter 4 and chapter 9.]"
      ]
    },
    {
      "cell_type": "markdown",
      "metadata": {
        "id": "KQT9Wo-Ld9h4"
      },
      "source": [
        "The file `students.tsv` contains tab separated values corresponding to the students in previous assigments.\n",
        "\n",
        "a) Iterate over the file, line by line, and print each line. Do NOT use a CSV reader.\n",
        "\n",
        "The result should be something like this:\n",
        "\n",
        "> `Amadeus\tMale\t8\t13`<br>\n",
        "> `Rosa\tFemale\t19\t22`<br>\n",
        "> ...\n",
        "\n",
        "The file should be closed when reading is complete.\n",
        "\n",
        "[Hint: Files are iterable in Python.]"
      ]
    },
    {
      "cell_type": "code",
      "execution_count": null,
      "metadata": {
        "colab": {
          "base_uri": "https://localhost:8080/"
        },
        "id": "k2JtXPkRd9h4",
        "outputId": "c2e59f3f-c3c3-4c19-a434-b8b6a65e96f9"
      },
      "outputs": [
        {
          "ename": "ModuleNotFoundError",
          "evalue": "No module named 'google.colab'",
          "output_type": "error",
          "traceback": [
            "\u001b[0;31m---------------------------------------------------------------------------\u001b[0m",
            "\u001b[0;31mModuleNotFoundError\u001b[0m                       Traceback (most recent call last)",
            "Cell \u001b[0;32mIn[39], line 1\u001b[0m\n\u001b[0;32m----> 1\u001b[0m \u001b[38;5;28;01mfrom\u001b[39;00m \u001b[38;5;21;01mgoogle\u001b[39;00m\u001b[38;5;21;01m.\u001b[39;00m\u001b[38;5;21;01mcolab\u001b[39;00m \u001b[38;5;28;01mimport\u001b[39;00m drive\n\u001b[1;32m      2\u001b[0m drive\u001b[38;5;241m.\u001b[39mmount(\u001b[38;5;124m'\u001b[39m\u001b[38;5;124m/gdrive\u001b[39m\u001b[38;5;124m'\u001b[39m) \u001b[38;5;66;03m# importing drive and giving access to to files\u001b[39;00m\n",
            "\u001b[0;31mModuleNotFoundError\u001b[0m: No module named 'google.colab'"
          ]
        }
      ],
      "source": [
        "from google.colab import drive\n",
        "drive.mount('/gdrive') # importing drive and giving access to to files\n",
        "\n"
      ]
    },
    {
      "cell_type": "code",
      "execution_count": null,
      "metadata": {
        "colab": {
          "base_uri": "https://localhost:8080/"
        },
        "id": "TbuUwRqHnX1C",
        "outputId": "21371a40-e29e-497d-ea1e-6bd158930961"
      },
      "outputs": [
        {
          "name": "stdout",
          "output_type": "stream",
          "text": [
            "[Errno 2] No such file or directory: '/gdrive/MyDrive/Python # changing directory'\n",
            "/Users/gabdu45/Documents/teaching/python/2024/Laborations/Lab1/submissions\n"
          ]
        }
      ],
      "source": [
        "%cd /gdrive/MyDrive/Python # changing directory"
      ]
    },
    {
      "cell_type": "code",
      "execution_count": null,
      "metadata": {
        "colab": {
          "base_uri": "https://localhost:8080/"
        },
        "id": "ZLwOhlYJELMN",
        "outputId": "b7cf9921-2f05-4f71-af6b-76bea2445398"
      },
      "outputs": [
        {
          "name": "stdout",
          "output_type": "stream",
          "text": [
            "Amadeus\tMale\t8\t13\n",
            "Rosa\tFemale\t19\t22\n",
            "Mona\tFemale\t6\t27\n",
            "Ludwig\tOther\t12\t18\n",
            "Karl\tMale\t14\t10\n"
          ]
        }
      ],
      "source": [
        "file = open('students.tsv', 'r') # reading the file\n",
        "\n",
        "for f in file:\n",
        "  print(f.strip()) # printing with strip to make it look better\n",
        "\n",
        "file.close() # closing the file"
      ]
    },
    {
      "cell_type": "markdown",
      "metadata": {
        "id": "Sv2Oanufd9h4"
      },
      "source": [
        "b) Working with many files can be problematic, especially when you forget to close files or errors interrupt programs before files are closed. Python thus has a special `with` statement which automatically closes files for you, even if an error occurs. Redo the assignment above using the `with` statement.\n",
        "\n",
        "[Literature: With is introduced in LP part II chapter 9 page 294.]"
      ]
    },
    {
      "cell_type": "code",
      "execution_count": null,
      "metadata": {
        "colab": {
          "base_uri": "https://localhost:8080/"
        },
        "id": "-7Y2U4kkd9h4",
        "outputId": "2d2edeeb-8c29-42d1-a6d0-9a61c9a923dc"
      },
      "outputs": [
        {
          "name": "stdout",
          "output_type": "stream",
          "text": [
            "Amadeus\tMale\t8\t13\n",
            "Rosa\tFemale\t19\t22\n",
            "Mona\tFemale\t6\t27\n",
            "Ludwig\tOther\t12\t18\n",
            "Karl\tMale\t14\t10\n"
          ]
        }
      ],
      "source": [
        "\n",
        "with open('students.tsv', 'r') as file:# Open the file in read mode(r)\n",
        "    for line in file:\n",
        "        print(line.strip())"
      ]
    },
    {
      "cell_type": "markdown",
      "metadata": {
        "id": "71TVioXId9h4"
      },
      "source": [
        "c) If you are going to open text files that might have different character encodings, a useful habit might be to use the [`codecs`](https://docs.python.org/3/library/codecs.html) module. Redo the task above, but using codecs.open. You might want to find out the character encoding of the file (for instance in an edit"
      ]
    },
    {
      "cell_type": "code",
      "execution_count": null,
      "metadata": {
        "colab": {
          "base_uri": "https://localhost:8080/"
        },
        "id": "DtHdzuV-d9h4",
        "outputId": "7976580b-4592-4932-b327-5de196a7202f"
      },
      "outputs": [
        {
          "name": "stdout",
          "output_type": "stream",
          "text": [
            "Amadeus\tMale\t8\t13\n",
            "Rosa\tFemale\t19\t22\n",
            "Mona\tFemale\t6\t27\n",
            "Ludwig\tOther\t12\t18\n",
            "Karl\tMale\t14\t10\n"
          ]
        }
      ],
      "source": [
        "import codecs # importing codecs\n",
        "\n",
        "\n",
        "with codecs.open('students.tsv', 'r', encoding='utf-8') as file: # utf 8 as encoding\n",
        "    for line in file:\n",
        "        print(line.strip())"
      ]
    },
    {
      "cell_type": "markdown",
      "metadata": {
        "id": "H6kSeZn9d9h4"
      },
      "source": [
        "d) Recreate the dictionary from assignment the previous assignment by reading the data from the file. Using a dedicated csv-reader is not permitted."
      ]
    },
    {
      "cell_type": "code",
      "execution_count": null,
      "metadata": {
        "id": "265aBiNTd9h5"
      },
      "outputs": [],
      "source": [
        "new_dict = {}# empty dict\n",
        "with open('students.tsv', 'r') as file:# Open the file in read mode(r)\n",
        "    for line in file:\n",
        "      field = line.split() # split the rows/lines\n",
        "      name, gen, alg, hist = field  # creating new variables from splitted line\n",
        "      new_dict[name] = {'Gender': gen, 'Algebra': alg, 'History': hist}# adding them to the dict\n",
        "\n"
      ]
    },
    {
      "cell_type": "markdown",
      "metadata": {
        "id": "JjZaeq17d9h5"
      },
      "source": [
        "e) Using the dictionary above, write sentences from task 4e above to a new file, called `students.txt`."
      ]
    },
    {
      "cell_type": "markdown",
      "metadata": {
        "id": "ePBFf-Bkxmhe"
      },
      "source": [
        "## Comment:\n",
        "    Same here for the variable names. Please redo."
      ]
    },
    {
      "cell_type": "code",
      "execution_count": null,
      "metadata": {
        "id": "bp1RNVRAd9h5"
      },
      "outputs": [],
      "source": [
        "with open('students.txt', 'w') as f: # writing the txt\n",
        "  for name, points in new_dict.items() : # looping with name and points over students and printing\n",
        "    f.write(f'Student {name} scored {points.get(\"Algebra\",0)} on the Algebra exam and {points.get(\"History\",0)} on the History exam \\n')\n"
      ]
    },
    {
      "cell_type": "code",
      "execution_count": null,
      "metadata": {
        "colab": {
          "base_uri": "https://localhost:8080/"
        },
        "id": "pc_K4ZyWphPX",
        "outputId": "af7764ca-5f0c-4199-bd4e-d393ec194d38"
      },
      "outputs": [
        {
          "name": "stdout",
          "output_type": "stream",
          "text": [
            "Student Amadeus scored 8 on the Algebra exam and 13 on the History exam\n",
            "Student Rosa scored 19 on the Algebra exam and 22 on the History exam\n",
            "Student Mona scored 6 on the Algebra exam and 27 on the History exam\n",
            "Student Ludwig scored 12 on the Algebra exam and 18 on the History exam\n",
            "Student Karl scored 14 on the Algebra exam and 10 on the History exam\n"
          ]
        }
      ],
      "source": [
        "# showing that the txt looks correct\n",
        "file = open('students.txt', 'r') # reading the file\n",
        "\n",
        "for f in file:\n",
        "  print(f.strip()) # printing with strip to make it look better\n",
        "\n",
        "file.close() # closing the file"
      ]
    },
    {
      "cell_type": "code",
      "execution_count": null,
      "metadata": {
        "id": "ZiyHDT5cxmhf"
      },
      "outputs": [],
      "source": []
    }
  ],
  "metadata": {
    "colab": {
      "provenance": []
    },
    "kernelspec": {
      "display_name": "Python 3 (ipykernel)",
      "language": "python",
      "name": "python3"
    },
    "language_info": {
      "codemirror_mode": {
        "name": "ipython",
        "version": 3
      },
      "file_extension": ".py",
      "mimetype": "text/x-python",
      "name": "python",
      "nbconvert_exporter": "python",
      "pygments_lexer": "ipython3",
      "version": "3.9.12"
    }
  },
  "nbformat": 4,
  "nbformat_minor": 0
}